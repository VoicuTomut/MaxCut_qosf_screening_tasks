{
 "cells": [
  {
   "cell_type": "markdown",
   "id": "northern-consultation",
   "metadata": {},
   "source": [
    "# QAOA MacCut_Pennylane(Adam+Rosalin)"
   ]
  },
  {
   "cell_type": "markdown",
   "id": "three-garage",
   "metadata": {},
   "source": [
    "I decide to try do do weighted max cut on the penylane because i whant to test more otimizerz ant Pennylate turorial require just some little ajutment to alow us ad weight to the edges. "
   ]
  },
  {
   "cell_type": "code",
   "execution_count": 6,
   "id": "varied-luxembourg",
   "metadata": {},
   "outputs": [],
   "source": [
    "import networkx as nx\n",
    "import numpy as np\n",
    "\n",
    "from matplotlib import pyplot as plt\n",
    "\n",
    "import pennylane as qml\n",
    "\n",
    "from pennylane import numpy as np"
   ]
  },
  {
   "cell_type": "code",
   "execution_count": 7,
   "id": "premium-friday",
   "metadata": {},
   "outputs": [],
   "source": [
    "np.random.seed(50)"
   ]
  },
  {
   "cell_type": "code",
   "execution_count": 8,
   "id": "amateur-classification",
   "metadata": {},
   "outputs": [
    {
     "data": {
      "image/png": "[encoded data removed]",
      "text/plain": [
       "<Figure size 432x288 with 1 Axes>"
      ]
     },
     "metadata": {},
     "output_type": "display_data"
    }
   ],
   "source": [
    "nr_nodes=5\n",
    "n_wires = nr_nodes\n",
    "graph = [(0,1,1.0),(1,2,9.0),(0,2,7.0),(3,1,5),(2,3,3.0),(0,3,1.0),(4,3,1),(4,2,1)]\n",
    "G=nx.Graph()\n",
    "G.add_weighted_edges_from(graph)\n",
    "nx.draw(G,with_labels=True)"
   ]
  },
  {
   "cell_type": "code",
   "execution_count": 9,
   "id": "indian-assistant",
   "metadata": {},
   "outputs": [
    {
     "name": "stdout",
     "output_type": "stream",
     "text": [
      "Best cut (cost=24.0): \n",
      " \n",
      "[0, 0, 1, 1, 0]\n",
      "[1, 1, 0, 0, 1]\n"
     ]
    }
   ],
   "source": [
    "#brut force  for verification  :\n",
    "def brut_MaxCut(graph,nr_nodes):\n",
    "    \n",
    "    W=np.zeros((int(nr_nodes),int(nr_nodes)))\n",
    "    for i in graph:\n",
    "        W[i[0]][i[1]]=i[2]\n",
    "        W[i[1]][i[0]]=i[2]       \n",
    "\n",
    "\n",
    "    best_cost_brute=0\n",
    "    max_str=[]\n",
    "    maxim=0\n",
    "    for b in range(2**nr_nodes):\n",
    "        x=[int(t) for t in reversed(list(bin(b)[2:].zfill(nr_nodes)))]\n",
    "        cost=0\n",
    "        for i in range(nr_nodes):\n",
    "            for j in range(nr_nodes):\n",
    "                cost=cost+W[i,j]*x[i]*(1-x[j])\n",
    "\n",
    "        \n",
    "        if best_cost_brute==cost:\n",
    "            max_str.append(str(x))\n",
    "            \n",
    "        if best_cost_brute<cost:\n",
    "            best_cost_brute=cost\n",
    "            max_str=[]\n",
    "            max_str.append(str(x))\n",
    " \n",
    "            \n",
    "    return  max_str, best_cost_brute\n",
    "            \n",
    "#Example:#      \n",
    "max_str, best_cost= brut_MaxCut(graph,nr_nodes)  \n",
    "print(\"Best cut (cost={}): \\n \".format(best_cost))\n",
    "for i in max_str:\n",
    "    print(i)"
   ]
  },
  {
   "cell_type": "markdown",
   "id": "neither-columbia",
   "metadata": {},
   "source": [
    "I use the same form for UB and UC as in Maxcut_01  RZ between two C not ais eqivalent have the form :"
   ]
  },
  {
   "cell_type": "code",
   "execution_count": 10,
   "id": "enclosed-philadelphia",
   "metadata": {},
   "outputs": [],
   "source": [
    "def UB_01(beta,n_wires):\n",
    "    for wire in range(n_wires):\n",
    "        qml.RX(2 * beta, wires=wire)\n",
    "        \n",
    "def UC_01(gamma,graph):\n",
    "    for edge in graph:\n",
    "        \n",
    "        wire1=edge[0]\n",
    "        wire2=edge[1]\n",
    "        w=edge[2]\n",
    "        \n",
    "        qml.CNOT(wires=[wire1, wire2])\n",
    "        qml.RZ(-w*gamma, wires=wire2)\n",
    "        qml.CNOT(wires=[wire1, wire2])\n",
    "        \n",
    "        \n",
    "def Init_H(n_wires):\n",
    "    for wire in range(n_wires):\n",
    "        qml.Hadamard(wires=wire)"
   ]
  },
  {
   "cell_type": "markdown",
   "id": "authentic-michael",
   "metadata": {},
   "source": [
    "These isa an interesting and thing about pennylane the wey that measurements are created."
   ]
  },
  {
   "cell_type": "code",
   "execution_count": 11,
   "id": "august-pottery",
   "metadata": {},
   "outputs": [],
   "source": [
    "def comp_basis_measurement(wires):\n",
    "    n_wires = len(wires)\n",
    "    return qml.Hermitian(np.diag(range(2 ** n_wires)), wires=wires)"
   ]
  },
  {
   "cell_type": "markdown",
   "id": "protecting-packaging",
   "metadata": {},
   "source": [
    "Partea d emai sus e echivalenta cu calculul costului in cost_2"
   ]
  },
  {
   "cell_type": "code",
   "execution_count": 12,
   "id": "caroline-elements",
   "metadata": {},
   "outputs": [],
   "source": [
    "pauli_z = [[1, 0], [0, -1]]\n",
    "pauli_z_2 = np.kron(pauli_z, pauli_z)\n",
    "\n",
    "dev = qml.device(\"default.qubit\", wires=n_wires, analytic=True, shots=1)\n",
    "\n",
    "@qml.qnode(dev)\n",
    "def circuit(gammas, betas,n_wires,graph, edge=None, l=1):\n",
    "\n",
    "    Init_H(n_wires)\n",
    "    \n",
    "    for i in range(l):\n",
    "        UC_01(gammas[i],graph)\n",
    "        UB_01(betas[i],n_wires)\n",
    "        \n",
    "    if edge is None:\n",
    "        return qml.sample(comp_basis_measurement(range(n_wires)))\n",
    "    \n",
    "    return qml.expval(qml.Hermitian(pauli_z_2, wires=(edge[0],edge[1])))  # 1 circuit for eatc edge ?? sems not very practical"
   ]
  },
  {
   "cell_type": "code",
   "execution_count": 13,
   "id": "traditional-miniature",
   "metadata": {},
   "outputs": [],
   "source": [
    "def cost(params,l,n_wires,graph,):\n",
    "    gammas = params[0]\n",
    "    betas = params[1]\n",
    "    cost = 0\n",
    "    for edge in graph:\n",
    "        # objective for the MaxCut problem\n",
    "        cost -= 0.5 * (1 - edge[2]*circuit(gammas, betas,n_wires=n_wires,graph=graph, edge=edge, l=l))\n",
    "    return cost"
   ]
  },
  {
   "cell_type": "code",
   "execution_count": null,
   "id": "material-burden",
   "metadata": {},
   "outputs": [
    {
     "name": "stdout",
     "output_type": "stream",
     "text": [
      "\n",
      " number of layers =1\n",
      "-Cost after step     5: -7.2746459\n",
      "-Cost after step    10: -6.7351591\n",
      "-Cost after step    15: -7.9653913\n",
      "-Cost after step    20: -8.6335588\n",
      "-Cost after step    25: -8.4313790\n",
      "-Cost after step    30: -8.5544848\n",
      "-Cost after step    35: -8.7488883\n",
      "-Cost after step    40: -8.8397638\n",
      "-Cost after step    45: -8.8682999\n",
      "-Cost after step    50: -8.8616580\n",
      "-Cost after step    55: -8.8658379\n",
      "-Cost after step    60: -8.8878537\n",
      "-Cost after step    65: -8.8997084\n",
      "-Cost after step    70: -8.8934649\n",
      "-Cost after step    75: -8.8986010\n",
      "-Cost after step    80: -8.8983487\n",
      "-Cost after step    85: -8.8998444\n",
      "-Cost after step    90: -8.8992888\n",
      "-Cost after step    95: -8.8999184\n",
      "-Cost after step   100: -8.9001729\n",
      "-Cost after step   105: -8.9002826\n",
      "-Cost after step   110: -8.9002419\n",
      "-Cost after step   115: -8.9002729\n",
      "-Cost after step   120: -8.9002780\n",
      "Optimized (gamma, beta) vectors:\n",
      "[[0.42487307]\n",
      " [0.68811924]]\n",
      "Most frequently sampled bit string is: 0101\n",
      "\n",
      " number of layers =2\n"
     ]
    }
   ],
   "source": [
    "def qaoa_maxcut(graph,n_wires,l=1,steps=30,n_samples = 100):\n",
    "    print(\"\\n number of layers ={:d}\".format(l))\n",
    "\n",
    "    # initialize the parameters near zero\n",
    "    init_params = 0.01 * np.random.rand(2, l)\n",
    "  \n",
    "    # initialize optimizer: Adagrad works well empirically\n",
    "    opt = qml.AdamOptimizer(stepsize=0.5)\n",
    "    \n",
    "    # optimize parameters in cost\n",
    "    params = init_params\n",
    "    c_hist=[]\n",
    "    for i in range(steps):\n",
    "        params = opt.step(cost, params,n_wires=n_wires,graph=graph,l=l)\n",
    "        if (i + 1) % 5 == 0:\n",
    "            c= cost(params,n_wires=n_wires,graph=graph,l=l)\n",
    "            c_hist.append(c)\n",
    "            print(\"-Cost after step {:5d}: {: .7f}\".format(i + 1,c))\n",
    "\n",
    "    bit_strings = []\n",
    "    for i in range(0, n_samples):\n",
    "        bit_strings.append(int(circuit(params[0], params[1], n_wires=n_wires,graph=graph, edge=None, l=l)))\n",
    "\n",
    "    # print optimal parameters and most frequently sampled bitstring\n",
    "    counts = np.bincount(np.array(bit_strings))\n",
    "    most_freq_bit_string = np.argmax(counts)\n",
    "    print(\"Optimized (gamma, beta) vectors:\\n{}\".format(params[:, :l]))\n",
    "    print(\"Most frequently sampled bit string is: {:04b}\".format(most_freq_bit_string))\n",
    "\n",
    "    return c_hist,-cost(params,n_wires=n_wires,graph=graph,l=l), bit_strings\n",
    "\n",
    "\n",
    "# perform qaoa on our graph with p=1,2 and\n",
    "# keep the bitstring sample lists\n",
    "c_hist1,params1,bitstrings1 = qaoa_maxcut(graph,nr_nodes,l=1,steps=120,n_samples = 100)\n",
    "c_hist2,params2,bitstrings2 = qaoa_maxcut(graph,nr_nodes,l=2,steps=120,n_samples = 100)"
   ]
  },
  {
   "cell_type": "code",
   "execution_count": 15,
   "id": "isolated-marble",
   "metadata": {},
   "outputs": [
    {
     "name": "stdout",
     "output_type": "stream",
     "text": [
      "Best cut (cost=24.0): \n",
      " \n",
      "[0, 0, 1, 1, 0]\n",
      "[1, 1, 0, 0, 1]\n"
     ]
    }
   ],
   "source": [
    "##### Example:#      \n",
    "max_str, best_cost= brut_MaxCut(graph,nr_nodes)  \n",
    "print(\"Best cut (cost={}): \\n \".format(best_cost))\n",
    "for i in max_str:\n",
    "    print(i)"
   ]
  },
  {
   "cell_type": "code",
   "execution_count": 16,
   "id": "bored-possession",
   "metadata": {},
   "outputs": [
    {
     "data": {
      "image/png": "[encoded data removed]",
      "text/plain": [
       "<Figure size 576x288 with 2 Axes>"
      ]
     },
     "metadata": {
      "needs_background": "light"
     },
     "output_type": "display_data"
    }
   ],
   "source": [
    "xticks = range(0, 2**nr_nodes)\n",
    "xtick_labels = list(map(lambda x: format(x, \"04b\"), xticks))\n",
    "bins = np.arange(0, 2**nr_nodes+1) - 0.5\n",
    "\n",
    "fig, (ax1, ax2) = plt.subplots(1, 2, figsize=(8, 4))\n",
    "plt.subplot(1, 2, 1)\n",
    "plt.title(\"nr. layers=1\")\n",
    "plt.xlabel(\"bitstrings\")\n",
    "plt.ylabel(\"freq.\")\n",
    "plt.xticks(xticks, xtick_labels, rotation=\"vertical\")\n",
    "plt.hist(bitstrings1, bins=bins)\n",
    "plt.subplot(1, 2, 2)\n",
    "plt.title(\"nr. layers=2\")\n",
    "plt.xlabel(\"bitstrings\")\n",
    "plt.ylabel(\"freq.\")\n",
    "plt.xticks(xticks, xtick_labels, rotation=\"vertical\")\n",
    "plt.hist(bitstrings2, bins=bins)\n",
    "plt.tight_layout()\n",
    "plt.show()"
   ]
  },
  {
   "cell_type": "code",
   "execution_count": 17,
   "id": "biological-crisis",
   "metadata": {},
   "outputs": [
    {
     "data": {
      "image/png": "[encoded data removed]",
      "text/plain": [
       "<Figure size 432x288 with 1 Axes>"
      ]
     },
     "metadata": {
      "needs_background": "light"
     },
     "output_type": "display_data"
    },
    {
     "name": "stdout",
     "output_type": "stream",
     "text": [
      "Best possibel scor: -24.0\n"
     ]
    }
   ],
   "source": [
    "it=[]\n",
    "c=5\n",
    "c1=[]\n",
    "for i in c_hist1:\n",
    "    c1.append(float(i.numpy()))\n",
    "    it.append(c)\n",
    "    c=c+5\n",
    "c2=[]\n",
    "for i in c_hist2:\n",
    "    c2.append(i.numpy())\n",
    "\n",
    "plt.title(\"Adagard Optimizre\")\n",
    "plt.xlabel(\"Iterations\")\n",
    "plt.ylabel(\"Cost\")\n",
    "plt.plot(it,c1,label=\"nr. layers = 1\")\n",
    "plt.plot(it,c2,label=\"nr. layers = 2\")\n",
    "x=[0,it[-1]]\n",
    "y=[-best_cost,-best_cost]\n",
    "#plt.plot(x,y)\n",
    "plt.legend(loc = 'best')\n",
    "plt.show()\n",
    "\n",
    "print(\"Best possibel scor:\",-best_cost)"
   ]
  },
  {
   "cell_type": "code",
   "execution_count": 18,
   "id": "departmental-texas",
   "metadata": {},
   "outputs": [
    {
     "name": "stdout",
     "output_type": "stream",
     "text": [
      "\n",
      " number of layers =3\n",
      "-Cost after step     5: -5.7237845\n",
      "-Cost after step    10: -6.4902027\n",
      "-Cost after step    15: -6.9420157\n",
      "-Cost after step    20: -8.5576773\n",
      "-Cost after step    25: -7.7305094\n",
      "-Cost after step    30: -9.6786349\n",
      "-Cost after step    35: -9.5595865\n",
      "-Cost after step    40: -10.1833802\n",
      "-Cost after step    45: -10.8138635\n",
      "-Cost after step    50: -10.9298528\n",
      "-Cost after step    55: -10.9750446\n",
      "-Cost after step    60: -10.9903565\n",
      "-Cost after step    65: -10.9879081\n",
      "-Cost after step    70: -11.0377899\n",
      "-Cost after step    75: -11.0247654\n",
      "-Cost after step    80: -11.0271872\n",
      "-Cost after step    85: -11.0164386\n",
      "-Cost after step    90: -10.8468768\n",
      "-Cost after step    95: -11.0350505\n",
      "-Cost after step   100: -10.5957118\n",
      "-Cost after step   105: -10.0213936\n",
      "-Cost after step   110: -10.5778648\n",
      "-Cost after step   115: -9.8279017\n",
      "-Cost after step   120: -8.2879571\n",
      "-Cost after step   125: -9.1512366\n",
      "-Cost after step   130: -10.4068076\n",
      "-Cost after step   135: -9.6242418\n",
      "-Cost after step   140: -10.4660645\n",
      "-Cost after step   145: -10.8741692\n",
      "-Cost after step   150: -10.8171369\n",
      "-Cost after step   155: -10.8754012\n",
      "-Cost after step   160: -10.9033257\n",
      "-Cost after step   165: -10.9432134\n",
      "-Cost after step   170: -10.8866912\n",
      "Optimized (gamma, beta) vectors:\n",
      "[[ 0.40727012  1.5530777  -0.87106715]\n",
      " [ 0.75189973  1.63653278  1.83736285]]\n",
      "Most frequently sampled bit string is: 0110\n",
      "\n",
      " number of layers =4\n",
      "-Cost after step     5: -4.1544351\n",
      "-Cost after step    10: -3.9970741\n",
      "-Cost after step    15: -4.2689235\n",
      "-Cost after step    20: -2.8343976\n",
      "-Cost after step    25: -4.0404044\n",
      "-Cost after step    30: -7.6266363\n",
      "-Cost after step    35: -5.7538060\n",
      "-Cost after step    40: -5.6715904\n",
      "-Cost after step    45: -5.5269909\n",
      "-Cost after step    50: -6.0479133\n",
      "-Cost after step    55: -6.5946392\n",
      "-Cost after step    60: -7.8166315\n",
      "-Cost after step    65: -8.5264907\n",
      "-Cost after step    70: -8.8892294\n",
      "-Cost after step    75: -9.3468290\n",
      "-Cost after step    80: -7.2377562\n",
      "-Cost after step    85: -8.4481260\n",
      "-Cost after step    90: -8.0841954\n",
      "-Cost after step    95: -8.7864861\n",
      "-Cost after step   100: -9.0541329\n",
      "-Cost after step   105: -9.1158854\n",
      "-Cost after step   110: -6.9824510\n",
      "-Cost after step   115: -8.6575698\n",
      "-Cost after step   120: -9.0068873\n",
      "-Cost after step   125: -9.2827608\n",
      "-Cost after step   130: -7.0573282\n",
      "-Cost after step   135: -8.4586839\n",
      "-Cost after step   140: -8.8945563\n",
      "-Cost after step   145: -8.7144905\n",
      "-Cost after step   150: -8.8803711\n",
      "-Cost after step   155: -6.8473265\n",
      "-Cost after step   160: -6.2100389\n",
      "-Cost after step   165: -7.0122644\n",
      "-Cost after step   170: -9.4413058\n",
      "Optimized (gamma, beta) vectors:\n",
      "[[ 0.42981556 -3.69060981 -6.32195145  0.74613117]\n",
      " [-1.02299502  6.12302217  3.682329    5.10844969]]\n",
      "Most frequently sampled bit string is: 0111\n",
      "\n",
      " number of layers =4\n",
      "-Cost after step     5: -4.3749540\n",
      "-Cost after step    10: -4.4696571\n",
      "-Cost after step    15: -4.4544550\n",
      "-Cost after step    20: -4.1735600\n",
      "-Cost after step    25: -1.6801663\n",
      "-Cost after step    30: -6.8528614\n",
      "-Cost after step    35: -9.0234440\n",
      "-Cost after step    40: -10.2268959\n",
      "-Cost after step    45: -10.4655124\n",
      "-Cost after step    50: -11.0869975\n",
      "-Cost after step    55: -11.0769492\n",
      "-Cost after step    60: -11.1880581\n",
      "-Cost after step    65: -10.9372756\n",
      "-Cost after step    70: -11.1704862\n",
      "-Cost after step    75: -11.0926672\n",
      "-Cost after step    80: -10.9919942\n",
      "-Cost after step    85: -11.2551704\n",
      "-Cost after step    90: -10.7944910\n",
      "-Cost after step    95: -11.2573273\n",
      "-Cost after step   100: -11.2323479\n",
      "-Cost after step   105: -10.8969399\n",
      "-Cost after step   110: -11.0503421\n",
      "-Cost after step   115: -11.3055534\n",
      "-Cost after step   120: -10.8609198\n",
      "-Cost after step   125: -10.9388905\n",
      "-Cost after step   130: -11.3219608\n",
      "-Cost after step   135: -10.5941982\n",
      "-Cost after step   140: -10.9966369\n",
      "-Cost after step   145: -11.2573950\n",
      "-Cost after step   150: -11.2480712\n",
      "-Cost after step   155: -10.8529013\n",
      "-Cost after step   160: -11.2702721\n",
      "-Cost after step   165: -11.2174341\n",
      "-Cost after step   170: -10.6103887\n",
      "Optimized (gamma, beta) vectors:\n",
      "[[3.28376093 3.19596444 2.52517601 5.82775925]\n",
      " [0.94697537 1.96369809 3.03409424 3.22476267]]\n",
      "Most frequently sampled bit string is: 0110\n"
     ]
    }
   ],
   "source": [
    "## Some test with more leyers:\n",
    "c_hist3,params3,bitstrings3 = qaoa_maxcut(graph,nr_nodes,l=3,steps=170,n_samples = 200)\n",
    "c_hist4,params4,bitstrings4 = qaoa_maxcut(graph,nr_nodes,l=4,steps=170,n_samples = 200)\n",
    "c_hist5,params5,bitstrings5 = qaoa_maxcut(graph,nr_nodes,l=4,steps=170,n_samples = 200)"
   ]
  },
  {
   "cell_type": "code",
   "execution_count": 19,
   "id": "african-export",
   "metadata": {},
   "outputs": [
    {
     "data": {
      "image/png": "[encoded data removed]",
      "text/plain": [
       "<Figure size 432x288 with 1 Axes>"
      ]
     },
     "metadata": {
      "needs_background": "light"
     },
     "output_type": "display_data"
    },
    {
     "name": "stdout",
     "output_type": "stream",
     "text": [
      "Best possibel scor: -24.0\n"
     ]
    }
   ],
   "source": [
    "it=[]\n",
    "c=5\n",
    "c3=[]\n",
    "for i in c_hist3:\n",
    "    c3.append(float(i.numpy()))\n",
    "    it.append(c)\n",
    "    c=c+5\n",
    "c4=[]\n",
    "for i in c_hist4:\n",
    "    c4.append(i.numpy())\n",
    "c5=[]\n",
    "for i in c_hist5:\n",
    "    c5.append(i.numpy())\n",
    "    \n",
    "plt.title(\"Adagard Optimizre\")\n",
    "plt.xlabel(\"Iterations\")\n",
    "plt.ylabel(\"Cost\")\n",
    "plt.plot(it,c3,label=\"nr. layers = 3\")\n",
    "plt.plot(it,c4,label=\"nr. layers = 4\")\n",
    "plt.plot(it,c5,label=\"nr. layers = 5\")\n",
    "\n",
    "x=[0,it[-1]]\n",
    "y=[-best_cost,-best_cost]\n",
    "#plt.plot(x,y)\n",
    "plt.legend(loc = 'best')\n",
    "plt.show()\n",
    "\n",
    "print(\"Best possibel scor:\",-best_cost)"
   ]
  },
  {
   "cell_type": "markdown",
   "id": "reduced-project",
   "metadata": {},
   "source": [
    "Pare ca intradevar numarul mai mare de straturi creste acuratetea dar converge mai greu . Orcicum atea e partea frumasa de data asta ne intereseaza doar sa ajungem intr-o stare atat de joasa incat sistemul sa colapseze predominant intr-o pozitie in care costul taieturiilor e maxim ! "
   ]
  },
  {
   "cell_type": "code",
   "execution_count": 20,
   "id": "advisory-maryland",
   "metadata": {},
   "outputs": [],
   "source": [
    "nr_nodes=5\n",
    "n_wires = nr_nodes\n",
    "graph = [(0,1,1.0),(1,2,9.0),(0,2,7.0),(3,1,5),(2,3,3.0),(0,3,1.0),(4,3,1),(4,2,1)]"
   ]
  },
  {
   "cell_type": "code",
   "execution_count": 21,
   "id": "pressing-motel",
   "metadata": {},
   "outputs": [],
   "source": [
    "class Rosalin:\n",
    "\n",
    "    def __init__(self, qnodes, coeffs, min_shots, mu=0.99, b=1e-6, lr=0.07):\n",
    "        self.qnodes = qnodes\n",
    "        self.coeffs = coeffs\n",
    "\n",
    "        self.lipschitz = np.sum(np.abs(coeffs))\n",
    "\n",
    "        if lr > 2 / self.lipschitz:\n",
    "            raise ValueError(\"The learning rate must be less than \", 2 / self.lipschitz)\n",
    "\n",
    "        # hyperparameters\n",
    "        self.min_shots = min_shots\n",
    "        self.mu = mu  # running average constant\n",
    "        self.b = b    # regularization bias\n",
    "        self.lr = lr  # learning rate\n",
    "\n",
    "        # keep track of the total number of shots used\n",
    "        self.shots_used = 0\n",
    "        # total number of iterations\n",
    "        self.k = 0\n",
    "        # Number of shots per parameter\n",
    "        self.s = np.zeros_like(params, dtype=np.float64) + min_shots\n",
    "\n",
    "        # Running average of the parameter gradients\n",
    "        self.chi = None\n",
    "        # Running average of the variance of the parameter gradients\n",
    "        self.xi = None\n",
    "\n",
    "    def estimate_hamiltonian(self, params, shots):\n",
    "        \"\"\"Returns an array containing length ``shots`` single-shot estimates\n",
    "        of the Hamiltonian. The shots are distributed randomly over\n",
    "        the terms in the Hamiltonian, as per a Multinomial distribution.\n",
    "\n",
    "        Since we are performing single-shot estimates, the QNodes must be\n",
    "        set to 'sample' mode.\n",
    "        \"\"\"\n",
    "\n",
    "        # determine the shot probability per term\n",
    "        prob_shots = np.abs(coeffs) / np.sum(np.abs(coeffs))\n",
    "\n",
    "        # construct the multinomial distribution, and sample\n",
    "        # from it to determine how many shots to apply per term\n",
    "        si = multinomial(n=shots, p=prob_shots)\n",
    "        shots_per_term = si.rvs()[0]\n",
    "\n",
    "        results = []\n",
    "        for h, c, p, s in zip(self.qnodes, self.coeffs, prob_shots, shots_per_term):\n",
    "\n",
    "            # if the number of shots is 0, do nothing\n",
    "            if s == 0:\n",
    "                continue\n",
    "\n",
    "            # set the QNode device shots\n",
    "            h.device.shots = s\n",
    "\n",
    "            # evaluate the QNode corresponding to\n",
    "            # the Hamiltonian term\n",
    "            res = h(params)\n",
    "\n",
    "            if s == 1:\n",
    "                res = np.array([res])\n",
    "\n",
    "            # Note that, unlike above, we divide each term by the\n",
    "            # probability per shot. This is because we are sampling one at a time.\n",
    "            results.append(c * res / p)\n",
    "\n",
    "        return np.concatenate(results)\n",
    "\n",
    "    def evaluate_grad_var(self, i, params, shots):\n",
    "        \"\"\"Evaluate the gradient, as well as the variance in the gradient,\n",
    "        for the ith parameter in params, using the parameter-shift rule.\n",
    "        \"\"\"\n",
    "        shift = np.zeros_like(params)\n",
    "        shift[i] = np.pi / 2\n",
    "\n",
    "        shift_forward = self.estimate_hamiltonian(params + shift, shots)\n",
    "        shift_backward = self.estimate_hamiltonian(params - shift, shots)\n",
    "\n",
    "        g = np.mean(shift_forward - shift_backward) / 2\n",
    "        s = np.var((shift_forward - shift_backward) / 2, ddof=1)\n",
    "\n",
    "        return g, s\n",
    "\n",
    "    def step(self, params):\n",
    "        \"\"\"Perform a single step of the Rosalin optimizer.\"\"\"\n",
    "        # keep track of the number of shots run\n",
    "        self.shots_used += int(2 * np.sum(self.s))\n",
    "\n",
    "        # compute the gradient, as well as the variance in the gradient,\n",
    "        # using the number of shots determined by the array s.\n",
    "        grad = []\n",
    "        S = []\n",
    "\n",
    "        p_ind = list(np.ndindex(*params.shape))\n",
    "\n",
    "        for l in p_ind:\n",
    "            # loop through each parameter, performing\n",
    "            # the parameter-shift rule\n",
    "            g_, s_ = self.evaluate_grad_var(l, params, self.s[l])\n",
    "            grad.append(g_)\n",
    "            S.append(s_)\n",
    "\n",
    "        grad = np.reshape(np.stack(grad), params.shape)\n",
    "        S = np.reshape(np.stack(S), params.shape)\n",
    "\n",
    "        # gradient descent update\n",
    "        params = params - self.lr * grad\n",
    "\n",
    "        if self.xi is None:\n",
    "            self.chi = np.zeros_like(params, dtype=np.float64)\n",
    "            self.xi = np.zeros_like(params, dtype=np.float64)\n",
    "\n",
    "        # running average of the gradient variance\n",
    "        self.xi = self.mu * self.xi + (1 - self.mu) * S\n",
    "        xi = self.xi / (1 - self.mu ** (self.k + 1))\n",
    "\n",
    "        # running average of the gradient\n",
    "        self.chi = self.mu * self.chi + (1 - self.mu) * grad\n",
    "        chi = self.chi / (1 - self.mu ** (self.k + 1))\n",
    "\n",
    "        # determine the new optimum shots distribution for the next\n",
    "        # iteration of the optimizer\n",
    "        s = np.ceil(\n",
    "            (2 * self.lipschitz * self.lr * xi)\n",
    "            / ((2 - self.lipschitz * self.lr) * (chi ** 2 + self.b * (self.mu ** self.k)))\n",
    "        )\n",
    "\n",
    "        # apply an upper and lower bound on the new shot distributions,\n",
    "        # to avoid the number of shots reducing below min(2, min_shots),\n",
    "        # or growing too significantly.\n",
    "        gamma = (\n",
    "            (self.lr - self.lipschitz * self.lr ** 2 / 2) * chi ** 2\n",
    "            - xi * self.lipschitz * self.lr ** 2 / (2 * s)\n",
    "        ) / s\n",
    "\n",
    "        argmax_gamma = np.unravel_index(np.argmax(gamma), gamma.shape)\n",
    "        smax = s[argmax_gamma]\n",
    "        self.s = np.clip(s, min(2, self.min_shots), smax)\n",
    "\n",
    "        self.k += 1\n",
    "        return params"
   ]
  },
  {
   "cell_type": "code",
   "execution_count": 25,
   "id": "dense-brave",
   "metadata": {},
   "outputs": [
    {
     "name": "stdout",
     "output_type": "stream",
     "text": [
      "\n",
      " number of layers =1\n"
     ]
    },
    {
     "ename": "TypeError",
     "evalue": "__init__() got an unexpected keyword argument 'stepsize'",
     "output_type": "error",
     "traceback": [
      "\u001b[0;31m---------------------------------------------------------------------------\u001b[0m",
      "\u001b[0;31mTypeError\u001b[0m                                 Traceback (most recent call last)",
      "\u001b[0;32m<ipython-input-25-25cb64c312be>\u001b[0m in \u001b[0;36m<module>\u001b[0;34m\u001b[0m\n\u001b[1;32m     33\u001b[0m \u001b[0;31m# perform qaoa on our graph with p=1,2 and\u001b[0m\u001b[0;34m\u001b[0m\u001b[0;34m\u001b[0m\u001b[0;34m\u001b[0m\u001b[0m\n\u001b[1;32m     34\u001b[0m \u001b[0;31m# keep the bitstring sample lists\u001b[0m\u001b[0;34m\u001b[0m\u001b[0;34m\u001b[0m\u001b[0;34m\u001b[0m\u001b[0m\n\u001b[0;32m---> 35\u001b[0;31m \u001b[0mc_hist1\u001b[0m\u001b[0;34m,\u001b[0m\u001b[0mparams1\u001b[0m\u001b[0;34m,\u001b[0m\u001b[0mbitstrings1\u001b[0m \u001b[0;34m=\u001b[0m \u001b[0mqaoa_maxcut_rosalin\u001b[0m\u001b[0;34m(\u001b[0m\u001b[0mgraph\u001b[0m\u001b[0;34m,\u001b[0m\u001b[0mnr_nodes\u001b[0m\u001b[0;34m,\u001b[0m\u001b[0ml\u001b[0m\u001b[0;34m=\u001b[0m\u001b[0;36m1\u001b[0m\u001b[0;34m,\u001b[0m\u001b[0msteps\u001b[0m\u001b[0;34m=\u001b[0m\u001b[0;36m120\u001b[0m\u001b[0;34m,\u001b[0m\u001b[0mn_samples\u001b[0m \u001b[0;34m=\u001b[0m \u001b[0;36m100\u001b[0m\u001b[0;34m)\u001b[0m\u001b[0;34m\u001b[0m\u001b[0;34m\u001b[0m\u001b[0m\n\u001b[0m\u001b[1;32m     36\u001b[0m \u001b[0mc_hist2\u001b[0m\u001b[0;34m,\u001b[0m\u001b[0mparams2\u001b[0m\u001b[0;34m,\u001b[0m\u001b[0mbitstrings2\u001b[0m \u001b[0;34m=\u001b[0m \u001b[0mqaoa_maxcut_rosalin\u001b[0m\u001b[0;34m(\u001b[0m\u001b[0mgraph\u001b[0m\u001b[0;34m,\u001b[0m\u001b[0mnr_nodes\u001b[0m\u001b[0;34m,\u001b[0m\u001b[0ml\u001b[0m\u001b[0;34m=\u001b[0m\u001b[0;36m2\u001b[0m\u001b[0;34m,\u001b[0m\u001b[0msteps\u001b[0m\u001b[0;34m=\u001b[0m\u001b[0;36m120\u001b[0m\u001b[0;34m,\u001b[0m\u001b[0mn_samples\u001b[0m \u001b[0;34m=\u001b[0m \u001b[0;36m100\u001b[0m\u001b[0;34m)\u001b[0m\u001b[0;34m\u001b[0m\u001b[0;34m\u001b[0m\u001b[0m\n",
      "\u001b[0;32m<ipython-input-25-25cb64c312be>\u001b[0m in \u001b[0;36mqaoa_maxcut_rosalin\u001b[0;34m(graph, n_wires, l, steps, n_samples)\u001b[0m\n\u001b[1;32m      6\u001b[0m \u001b[0;34m\u001b[0m\u001b[0m\n\u001b[1;32m      7\u001b[0m     \u001b[0;31m# initialize optimizer: Adagrad works well empirically\u001b[0m\u001b[0;34m\u001b[0m\u001b[0;34m\u001b[0m\u001b[0;34m\u001b[0m\u001b[0m\n\u001b[0;32m----> 8\u001b[0;31m     \u001b[0mopt\u001b[0m \u001b[0;34m=\u001b[0m \u001b[0mRosalin\u001b[0m\u001b[0;34m(\u001b[0m\u001b[0mstepsize\u001b[0m\u001b[0;34m=\u001b[0m\u001b[0;36m0.5\u001b[0m\u001b[0;34m)\u001b[0m\u001b[0;34m\u001b[0m\u001b[0;34m\u001b[0m\u001b[0m\n\u001b[0m\u001b[1;32m      9\u001b[0m \u001b[0;34m\u001b[0m\u001b[0m\n\u001b[1;32m     10\u001b[0m     \u001b[0;31m# optimize parameters in cost\u001b[0m\u001b[0;34m\u001b[0m\u001b[0;34m\u001b[0m\u001b[0;34m\u001b[0m\u001b[0m\n",
      "\u001b[0;31mTypeError\u001b[0m: __init__() got an unexpected keyword argument 'stepsize'"
     ]
    }
   ],
   "source": [
    "def qaoa_maxcut_rosalin(graph,n_wires,l=1,steps=30,n_samples = 100):\n",
    "    print(\"\\n number of layers ={:d}\".format(l))\n",
    "\n",
    "    # initialize the parameters near zero\n",
    "    init_params = 0.01 * np.random.rand(2, l)\n",
    "  \n",
    "    # initialize optimizer: Adagrad works well empirically\n",
    "    opt = Rosalin(stepsize=0.5)\n",
    "    \n",
    "    # optimize parameters in cost\n",
    "    params = init_params\n",
    "    c_hist=[]\n",
    "    for i in range(steps):\n",
    "        params = opt.step(cost, params,n_wires=n_wires,graph=graph,l=l)\n",
    "        if (i + 1) % 5 == 0:\n",
    "            c= cost(params,n_wires=n_wires,graph=graph,l=l)\n",
    "            c_hist.append(c)\n",
    "            print(\"-Cost after step {:5d}: {: .7f}\".format(i + 1,c))\n",
    "\n",
    "    bit_strings = []\n",
    "    for i in range(0, n_samples):\n",
    "        bit_strings.append(int(circuit(params[0], params[1], n_wires=n_wires,graph=graph, edge=None, l=l)))\n",
    "\n",
    "    # print optimal parameters and most frequently sampled bitstring\n",
    "    counts = np.bincount(np.array(bit_strings))\n",
    "    most_freq_bit_string = np.argmax(counts)\n",
    "    print(\"Optimized (gamma, beta) vectors:\\n{}\".format(params[:, :l]))\n",
    "    print(\"Most frequently sampled bit string is: {:04b}\".format(most_freq_bit_string))\n",
    "\n",
    "    return c_hist,-cost(params,n_wires=n_wires,graph=graph,l=l), bit_strings\n",
    "\n",
    "\n",
    "# perform qaoa on our graph with p=1,2 and\n",
    "# keep the bitstring sample lists\n",
    "c_hist1,params1,bitstrings1 = qaoa_maxcut_rosalin(graph,nr_nodes,l=1,steps=120,n_samples = 100)\n",
    "c_hist2,params2,bitstrings2 = qaoa_maxcut_rosalin(graph,nr_nodes,l=2,steps=120,n_samples = 100)"
   ]
  },
  {
   "cell_type": "code",
   "execution_count": null,
   "id": "short-poker",
   "metadata": {},
   "outputs": [],
   "source": []
  }
 ],
 "metadata": {
  "kernelspec": {
   "display_name": "Python 3",
   "language": "python",
   "name": "python3"
  },
  "language_info": {
   "codemirror_mode": {
    "name": "ipython",
    "version": 3
   },
   "file_extension": ".py",
   "mimetype": "text/x-python",
   "name": "python",
   "nbconvert_exporter": "python",
   "pygments_lexer": "ipython3",
   "version": "3.7.9"
  }
 },
 "nbformat": 4,
 "nbformat_minor": 5
}
