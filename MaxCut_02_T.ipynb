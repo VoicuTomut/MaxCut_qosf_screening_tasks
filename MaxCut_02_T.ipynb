{
 "cells": [
  {
   "cell_type": "code",
   "execution_count": 1,
   "id": "varied-luxembourg",
   "metadata": {},
   "outputs": [],
   "source": [
    "import networkx as nx\n",
    "import numpy as np\n",
    "\n",
    "from matplotlib import pyplot as plt\n",
    "\n",
    "import pennylane as qml\n",
    "\n",
    "from pennylane import numpy as np"
   ]
  },
  {
   "cell_type": "code",
   "execution_count": 2,
   "id": "premium-friday",
   "metadata": {},
   "outputs": [],
   "source": [
    "np.random.seed(50)"
   ]
  },
  {
   "cell_type": "code",
   "execution_count": 14,
   "id": "amateur-classification",
   "metadata": {},
   "outputs": [
    {
     "data": {
      "image/png": "[encoded data removed]",
      "text/plain": [
       "<Figure size 432x288 with 1 Axes>"
      ]
     },
     "metadata": {},
     "output_type": "display_data"
    }
   ],
   "source": [
    "nr_nodes=5\n",
    "n_wires = nr_nodes\n",
    "graph = [(0,1,1.0),(1,2,9.0),(0,2,7.0),(3,1,5),(2,3,3.0),(0,3,1.0),(4,3,1),(4,2,1)]\n",
    "G=nx.Graph()\n",
    "G.add_weighted_edges_from(graph)\n",
    "nx.draw(G,with_labels=True)"
   ]
  },
  {
   "cell_type": "code",
   "execution_count": 15,
   "id": "indian-assistant",
   "metadata": {},
   "outputs": [
    {
     "name": "stdout",
     "output_type": "stream",
     "text": [
      "Best cut (cost=24.0): \n",
      " \n",
      "[0, 0, 1, 1, 0]\n",
      "[1, 1, 0, 0, 1]\n"
     ]
    }
   ],
   "source": [
    "#brut force  for verification  :\n",
    "def brut_MaxCut(graph,nr_nodes):\n",
    "    \n",
    "    W=np.zeros((int(nr_nodes),int(nr_nodes)))\n",
    "    for i in graph:\n",
    "        W[i[0]][i[1]]=i[2]\n",
    "        W[i[1]][i[0]]=i[2]       \n",
    "\n",
    "\n",
    "    best_cost_brute=0\n",
    "    max_str=[]\n",
    "    maxim=0\n",
    "    for b in range(2**nr_nodes):\n",
    "        x=[int(t) for t in reversed(list(bin(b)[2:].zfill(nr_nodes)))]\n",
    "        cost=0\n",
    "        for i in range(nr_nodes):\n",
    "            for j in range(nr_nodes):\n",
    "                cost=cost+W[i,j]*x[i]*(1-x[j])\n",
    "\n",
    "        \n",
    "        if best_cost_brute==cost:\n",
    "            max_str.append(str(x))\n",
    "            \n",
    "        if best_cost_brute<cost:\n",
    "            best_cost_brute=cost\n",
    "            max_str=[]\n",
    "            max_str.append(str(x))\n",
    " \n",
    "            \n",
    "    return  max_str, best_cost_brute\n",
    "            \n",
    "#Example:#      \n",
    "max_str, best_cost= brut_MaxCut(graph,nr_nodes)  \n",
    "print(\"Best cut (cost={}): \\n \".format(best_cost))\n",
    "for i in max_str:\n",
    "    print(i)"
   ]
  },
  {
   "cell_type": "code",
   "execution_count": 28,
   "id": "enclosed-philadelphia",
   "metadata": {},
   "outputs": [],
   "source": [
    "def UB_01(beta,n_wires):\n",
    "    for wire in range(n_wires):\n",
    "        qml.RX(2 * beta, wires=wire)\n",
    "        \n",
    "def UC_01(gamma,graph):\n",
    "    for edge in graph:\n",
    "        \n",
    "        wire1=edge[0]\n",
    "        wire2=edge[1]\n",
    "        w=edge[2]\n",
    "        \n",
    "        qml.CNOT(wires=[wire1, wire2])\n",
    "        qml.RZ(-w*gamma, wires=wire2)\n",
    "        qml.CNOT(wires=[wire1, wire2])\n",
    "        \n",
    "        \n",
    "def Init_H(n_wires):\n",
    "    for wire in range(n_wires):\n",
    "        qml.Hadamard(wires=wire)"
   ]
  },
  {
   "cell_type": "code",
   "execution_count": 29,
   "id": "august-pottery",
   "metadata": {},
   "outputs": [],
   "source": [
    "def comp_basis_measurement(wires):\n",
    "    n_wires = len(wires)\n",
    "    return qml.Hermitian(np.diag(range(2 ** n_wires)), wires=wires)"
   ]
  },
  {
   "cell_type": "code",
   "execution_count": 30,
   "id": "caroline-elements",
   "metadata": {},
   "outputs": [],
   "source": [
    "pauli_z = [[1, 0], [0, -1]]\n",
    "pauli_z_2 = np.kron(pauli_z, pauli_z)\n",
    "\n",
    "dev = qml.device(\"default.qubit\", wires=n_wires, analytic=True, shots=1)\n",
    "\n",
    "@qml.qnode(dev)\n",
    "def circuit(gammas, betas,n_wires,graph, edge=None, l=1):\n",
    "\n",
    "    Init_H(n_wires)\n",
    "    \n",
    "    for i in range(l):\n",
    "        UC_01(gammas[i],graph)\n",
    "        UB_01(betas[i],n_wires)\n",
    "        \n",
    "    if edge is None:\n",
    "        return qml.sample(comp_basis_measurement(range(n_wires)))\n",
    "    \n",
    "    return qml.expval(qml.Hermitian(pauli_z_2, wires=(edge[0],edge[1])))  # 1 circuit for eatc edge ?? sems not very practical"
   ]
  },
  {
   "cell_type": "code",
   "execution_count": 41,
   "id": "traditional-miniature",
   "metadata": {},
   "outputs": [],
   "source": [
    "# minimize the negative of the objective function\n",
    "def objective(params,l,n_wires,graph,):\n",
    "    gammas = params[0]\n",
    "    betas = params[1]\n",
    "    cost = 0\n",
    "    for edge in graph:\n",
    "        # objective for the MaxCut problem\n",
    "        cost -= 0.5 * (1 - edge[2]*circuit(gammas, betas,n_wires=n_wires,graph=graph, edge=edge, l=l))\n",
    "    return cost"
   ]
  },
  {
   "cell_type": "code",
   "execution_count": 42,
   "id": "material-burden",
   "metadata": {},
   "outputs": [
    {
     "name": "stdout",
     "output_type": "stream",
     "text": [
      "\n",
      " number of layers =1\n",
      "-Cost after step     5:  6.5726298\n",
      "-Cost after step    10:  7.6847259\n",
      "-Cost after step    15:  8.2579113\n",
      "-Cost after step    20:  8.6092889\n",
      "-Cost after step    25:  8.7279934\n",
      "-Cost after step    30:  8.8242942\n",
      "-Cost after step    35:  8.8602634\n",
      "-Cost after step    40:  8.8818135\n",
      "-Cost after step    45:  8.8909818\n",
      "-Cost after step    50:  8.8958844\n",
      "-Cost after step    55:  8.8981130\n",
      "-Cost after step    60:  8.8992451\n",
      "-Cost after step    65:  8.8997769\n",
      "-Cost after step    70:  8.9000406\n",
      "-Cost after step    75:  8.9001665\n",
      "-Cost after step    80:  8.9002283\n",
      "-Cost after step    85:  8.9002580\n",
      "-Cost after step    90:  8.9002724\n",
      "-Cost after step    95:  8.9002794\n",
      "-Cost after step   100:  8.9002828\n",
      "Optimized (gamma, beta) vectors:\n",
      "[[-0.42495478]\n",
      " [ 0.88286541]]\n",
      "Most frequently sampled bit string is: 0110\n",
      "\n",
      " number of layers =2\n",
      "-Cost after step     5:  5.2683282\n",
      "-Cost after step    10:  5.8818791\n",
      "-Cost after step    15:  6.7105138\n",
      "-Cost after step    20:  8.2727661\n",
      "-Cost after step    25:  8.5888024\n",
      "-Cost after step    30:  8.8907074\n",
      "-Cost after step    35:  9.0394548\n",
      "-Cost after step    40:  9.1457406\n",
      "-Cost after step    45:  9.2040866\n",
      "-Cost after step    50:  9.2303498\n",
      "-Cost after step    55:  9.1560255\n",
      "-Cost after step    60:  9.2045363\n",
      "-Cost after step    65:  9.2272274\n",
      "-Cost after step    70:  9.2336333\n",
      "-Cost after step    75:  9.2525359\n",
      "-Cost after step    80:  9.2572675\n",
      "-Cost after step    85:  9.2688961\n",
      "-Cost after step    90:  9.2728685\n",
      "-Cost after step    95:  9.2799680\n",
      "-Cost after step   100:  9.2830117\n",
      "Optimized (gamma, beta) vectors:\n",
      "[[-0.43662151  0.90180181]\n",
      " [ 0.83348674  0.17101116]]\n",
      "Most frequently sampled bit string is: 11001\n"
     ]
    }
   ],
   "source": [
    "def qaoa_maxcut(graph,n_wires,l=1,steps=30,n_samples = 100):\n",
    "    print(\"\\n number of layers ={:d}\".format(l))\n",
    "\n",
    "    # initialize the parameters near zero\n",
    "    init_params = 0.01 * np.random.rand(2, 2)\n",
    "\n",
    "    # initialize optimizer: Adagrad works well empirically\n",
    "    opt = qml.AdagradOptimizer(stepsize=0.5)\n",
    "    \n",
    "    # optimize parameters in objective\n",
    "    params = init_params\n",
    "    for i in range(steps):\n",
    "        params = opt.step(objective, params,n_wires=n_wires,graph=graph,l=l)\n",
    "        if (i + 1) % 5 == 0:\n",
    "            print(\"-Cost after step {:5d}: {: .7f}\".format(i + 1, -objective(params,n_wires=n_wires,graph=graph,l=l)))\n",
    "\n",
    "    bit_strings = []\n",
    "    for i in range(0, n_samples):\n",
    "        bit_strings.append(int(circuit(params[0], params[1], n_wires=n_wires,graph=graph, edge=None, l=l)))\n",
    "\n",
    "    # print optimal parameters and most frequently sampled bitstring\n",
    "    counts = np.bincount(np.array(bit_strings))\n",
    "    most_freq_bit_string = np.argmax(counts)\n",
    "    print(\"Optimized (gamma, beta) vectors:\\n{}\".format(params[:, :l]))\n",
    "    print(\"Most frequently sampled bit string is: {:04b}\".format(most_freq_bit_string))\n",
    "\n",
    "    return -objective(params,n_wires=n_wires,graph=graph,l=l), bit_strings\n",
    "\n",
    "\n",
    "# perform qaoa on our graph with p=1,2 and\n",
    "# keep the bitstring sample lists\n",
    "bitstrings1 = qaoa_maxcut(graph,nr_nodes,l=1,steps=100,n_samples = 100)[1]\n",
    "bitstrings2 = qaoa_maxcut(graph,nr_nodes,l=2,steps=100,n_samples = 100)[1]"
   ]
  },
  {
   "cell_type": "code",
   "execution_count": 34,
   "id": "dried-chrome",
   "metadata": {},
   "outputs": [
    {
     "name": "stdout",
     "output_type": "stream",
     "text": [
      "Best cut (cost=24.0): \n",
      " \n",
      "[0, 0, 1, 1, 0]\n",
      "[1, 1, 0, 0, 1]\n"
     ]
    }
   ],
   "source": [
    "#Example:#      \n",
    "max_str, best_cost= brut_MaxCut(graph,nr_nodes)  \n",
    "print(\"Best cut (cost={}): \\n \".format(best_cost))\n",
    "for i in max_str:\n",
    "    print(i)"
   ]
  },
  {
   "cell_type": "code",
   "execution_count": 44,
   "id": "bored-possession",
   "metadata": {},
   "outputs": [
    {
     "data": {
      "image/png": "[encoded data removed]",
      "text/plain": [
       "<Figure size 576x288 with 2 Axes>"
      ]
     },
     "metadata": {
      "needs_background": "light"
     },
     "output_type": "display_data"
    }
   ],
   "source": [
    "xticks = range(0, 2**nr_nodes)\n",
    "xtick_labels = list(map(lambda x: format(x, \"04b\"), xticks))\n",
    "bins = np.arange(0, 2**nr_nodes+1) - 0.5\n",
    "\n",
    "fig, (ax1, ax2) = plt.subplots(1, 2, figsize=(8, 4))\n",
    "plt.subplot(1, 2, 1)\n",
    "plt.title(\"nr. layers=1\")\n",
    "plt.xlabel(\"bitstrings\")\n",
    "plt.ylabel(\"freq.\")\n",
    "plt.xticks(xticks, xtick_labels, rotation=\"vertical\")\n",
    "plt.hist(bitstrings1, bins=bins)\n",
    "plt.subplot(1, 2, 2)\n",
    "plt.title(\"nr. layers=2\")\n",
    "plt.xlabel(\"bitstrings\")\n",
    "plt.ylabel(\"freq.\")\n",
    "plt.xticks(xticks, xtick_labels, rotation=\"vertical\")\n",
    "plt.hist(bitstrings2, bins=bins)\n",
    "plt.tight_layout()\n",
    "plt.show()"
   ]
  },
  {
   "cell_type": "code",
   "execution_count": null,
   "id": "noticed-performance",
   "metadata": {},
   "outputs": [],
   "source": []
  },
  {
   "cell_type": "code",
   "execution_count": null,
   "id": "thousand-hypothesis",
   "metadata": {},
   "outputs": [],
   "source": []
  },
  {
   "cell_type": "code",
   "execution_count": null,
   "id": "african-export",
   "metadata": {},
   "outputs": [],
   "source": []
  }
 ],
 "metadata": {
  "kernelspec": {
   "display_name": "Python 3",
   "language": "python",
   "name": "python3"
  },
  "language_info": {
   "codemirror_mode": {
    "name": "ipython",
    "version": 3
   },
   "file_extension": ".py",
   "mimetype": "text/x-python",
   "name": "python",
   "nbconvert_exporter": "python",
   "pygments_lexer": "ipython3",
   "version": "3.7.9"
  }
 },
 "nbformat": 4,
 "nbformat_minor": 5
}
