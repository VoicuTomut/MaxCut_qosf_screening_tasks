{
 "cells": [
  {
   "cell_type": "markdown",
   "id": "northern-consultation",
   "metadata": {},
   "source": [
    "# QAOA MacCut_Pennylane(Adagrad)"
   ]
  },
  {
   "cell_type": "markdown",
   "id": "three-garage",
   "metadata": {},
   "source": [
    "I decide to try do do weighted max cut on the penylane because i whant to test more otimizerz ant Pennylate turorial require just some little ajutment to alow us ad weight to the edges. "
   ]
  },
  {
   "cell_type": "code",
   "execution_count": 31,
   "id": "varied-luxembourg",
   "metadata": {},
   "outputs": [],
   "source": [
    "import networkx as nx\n",
    "import numpy as np\n",
    "\n",
    "from matplotlib import pyplot as plt\n",
    "\n",
    "import pennylane as qml\n",
    "\n",
    "from pennylane import numpy as np"
   ]
  },
  {
   "cell_type": "code",
   "execution_count": 32,
   "id": "premium-friday",
   "metadata": {},
   "outputs": [],
   "source": [
    "np.random.seed(50)"
   ]
  },
  {
   "cell_type": "code",
   "execution_count": 33,
   "id": "amateur-classification",
   "metadata": {},
   "outputs": [
    {
     "data": {
      "image/png": "[encoded data removed]",
      "text/plain": [
       "<Figure size 432x288 with 1 Axes>"
      ]
     },
     "metadata": {},
     "output_type": "display_data"
    }
   ],
   "source": [
    "nr_nodes=5\n",
    "n_wires = nr_nodes\n",
    "graph = [(0,1,1.0),(1,2,9.0),(0,2,7.0),(3,1,5),(2,3,3.0),(0,3,1.0),(4,3,1),(4,2,1)]\n",
    "G=nx.Graph()\n",
    "G.add_weighted_edges_from(graph)\n",
    "nx.draw(G,with_labels=True)"
   ]
  },
  {
   "cell_type": "code",
   "execution_count": 34,
   "id": "indian-assistant",
   "metadata": {},
   "outputs": [
    {
     "name": "stdout",
     "output_type": "stream",
     "text": [
      "Best cut (cost=24.0): \n",
      " \n",
      "[0, 0, 1, 1, 0]\n",
      "[1, 1, 0, 0, 1]\n"
     ]
    }
   ],
   "source": [
    "#brut force  for verification  :\n",
    "def brut_MaxCut(graph,nr_nodes):\n",
    "    \n",
    "    W=np.zeros((int(nr_nodes),int(nr_nodes)))\n",
    "    for i in graph:\n",
    "        W[i[0]][i[1]]=i[2]\n",
    "        W[i[1]][i[0]]=i[2]       \n",
    "\n",
    "\n",
    "    best_cost_brute=0\n",
    "    max_str=[]\n",
    "    maxim=0\n",
    "    for b in range(2**nr_nodes):\n",
    "        x=[int(t) for t in reversed(list(bin(b)[2:].zfill(nr_nodes)))]\n",
    "        cost=0\n",
    "        for i in range(nr_nodes):\n",
    "            for j in range(nr_nodes):\n",
    "                cost=cost+W[i,j]*x[i]*(1-x[j])\n",
    "\n",
    "        \n",
    "        if best_cost_brute==cost:\n",
    "            max_str.append(str(x))\n",
    "            \n",
    "        if best_cost_brute<cost:\n",
    "            best_cost_brute=cost\n",
    "            max_str=[]\n",
    "            max_str.append(str(x))\n",
    " \n",
    "            \n",
    "    return  max_str, best_cost_brute\n",
    "            \n",
    "#Example:#      \n",
    "max_str, best_cost= brut_MaxCut(graph,nr_nodes)  \n",
    "print(\"Best cut (cost={}): \\n \".format(best_cost))\n",
    "for i in max_str:\n",
    "    print(i)"
   ]
  },
  {
   "cell_type": "markdown",
   "id": "neither-columbia",
   "metadata": {},
   "source": [
    "I use the same form for UB and UC as in Maxcut_01  RZ between two C not ais eqivalent have the form :"
   ]
  },
  {
   "cell_type": "code",
   "execution_count": 35,
   "id": "enclosed-philadelphia",
   "metadata": {},
   "outputs": [],
   "source": [
    "def UB_01(beta,n_wires):\n",
    "    for wire in range(n_wires):\n",
    "        qml.RX(2 * beta, wires=wire)\n",
    "        \n",
    "def UC_01(gamma,graph):\n",
    "    for edge in graph:\n",
    "        \n",
    "        wire1=edge[0]\n",
    "        wire2=edge[1]\n",
    "        w=edge[2]\n",
    "        \n",
    "        qml.CNOT(wires=[wire1, wire2])\n",
    "        qml.RZ(-w*gamma, wires=wire2)\n",
    "        qml.CNOT(wires=[wire1, wire2])\n",
    "        \n",
    "        \n",
    "def Init_H(n_wires):\n",
    "    for wire in range(n_wires):\n",
    "        qml.Hadamard(wires=wire)"
   ]
  },
  {
   "cell_type": "markdown",
   "id": "authentic-michael",
   "metadata": {},
   "source": [
    "These isa an interesting and thing about pennylane the wey that measurements are created."
   ]
  },
  {
   "cell_type": "code",
   "execution_count": 36,
   "id": "august-pottery",
   "metadata": {},
   "outputs": [],
   "source": [
    "def comp_basis_measurement(wires):\n",
    "    n_wires = len(wires)\n",
    "    return qml.Hermitian(np.diag(range(2 ** n_wires)), wires=wires)"
   ]
  },
  {
   "cell_type": "markdown",
   "id": "protecting-packaging",
   "metadata": {},
   "source": [
    "Partea d emai sus e echivalenta cu calculul costului in cost_2"
   ]
  },
  {
   "cell_type": "code",
   "execution_count": 37,
   "id": "caroline-elements",
   "metadata": {},
   "outputs": [],
   "source": [
    "pauli_z = [[1, 0], [0, -1]]\n",
    "pauli_z_2 = np.kron(pauli_z, pauli_z)\n",
    "\n",
    "dev = qml.device(\"default.qubit\", wires=n_wires, analytic=True, shots=1)\n",
    "\n",
    "@qml.qnode(dev)\n",
    "def circuit(gammas, betas,n_wires,graph, edge=None, l=1):\n",
    "\n",
    "    Init_H(n_wires)\n",
    "    \n",
    "    for i in range(l):\n",
    "        UC_01(gammas[i],graph)\n",
    "        UB_01(betas[i],n_wires)\n",
    "        \n",
    "    if edge is None:\n",
    "        return qml.sample(comp_basis_measurement(range(n_wires)))\n",
    "    \n",
    "    return qml.expval(qml.Hermitian(pauli_z_2, wires=(edge[0],edge[1])))  # 1 circuit for eatc edge ?? sems not very practical"
   ]
  },
  {
   "cell_type": "code",
   "execution_count": 51,
   "id": "traditional-miniature",
   "metadata": {},
   "outputs": [],
   "source": [
    "def cost(params,l,n_wires,graph,):\n",
    "    gammas = params[0]\n",
    "    betas = params[1]\n",
    "    cost = 0\n",
    "    for edge in graph:\n",
    "        # objective for the MaxCut problem\n",
    "        cost -= 0.5 * (1 - edge[2]*circuit(gammas, betas,n_wires=n_wires,graph=graph, edge=edge, l=l))\n",
    "    return cost"
   ]
  },
  {
   "cell_type": "code",
   "execution_count": 112,
   "id": "material-burden",
   "metadata": {},
   "outputs": [
    {
     "name": "stdout",
     "output_type": "stream",
     "text": [
      "\n",
      " number of layers =1\n",
      "-Cost after step     5: -6.0451797\n",
      "-Cost after step    10: -7.6014096\n",
      "-Cost after step    15: -8.1127354\n",
      "-Cost after step    20: -8.5953476\n",
      "-Cost after step    25: -8.7207593\n",
      "-Cost after step    30: -8.8216508\n",
      "-Cost after step    35: -8.8588660\n",
      "-Cost after step    40: -8.8812230\n",
      "-Cost after step    45: -8.8906893\n",
      "-Cost after step    50: -8.8957547\n",
      "-Cost after step    55: -8.8980510\n",
      "-Cost after step    60: -8.8992170\n",
      "-Cost after step    65: -8.8997638\n",
      "-Cost after step    70: -8.9000346\n",
      "-Cost after step    75: -8.9001638\n",
      "-Cost after step    80: -8.9002270\n",
      "-Cost after step    85: -8.9002574\n",
      "-Cost after step    90: -8.9002722\n",
      "-Cost after step    95: -8.9002793\n",
      "-Cost after step   100: -8.9002828\n",
      "-Cost after step   105: -8.9002845\n",
      "-Cost after step   110: -8.9002853\n",
      "-Cost after step   115: -8.9002857\n",
      "-Cost after step   120: -8.9002859\n",
      "-Cost after step   125: -8.9002859\n",
      "-Cost after step   130: -8.9002860\n",
      "-Cost after step   135: -8.9002860\n",
      "-Cost after step   140: -8.9002860\n",
      "-Cost after step   145: -8.9002860\n",
      "-Cost after step   150: -8.9002860\n",
      "Optimized (gamma, beta) vectors:\n",
      "[[-0.42505591]\n",
      " [ 0.88274155]]\n",
      "Most frequently sampled bit string is: 0110\n",
      "\n",
      " number of layers =2\n",
      "-Cost after step     5: -4.5917592\n",
      "-Cost after step    10: -4.9143723\n",
      "-Cost after step    15: -3.8622246\n",
      "-Cost after step    20: -5.6607753\n",
      "-Cost after step    25: -5.6999172\n",
      "-Cost after step    30: -9.0598837\n",
      "-Cost after step    35: -10.2197417\n",
      "-Cost after step    40: -10.7067345\n",
      "-Cost after step    45: -9.9761662\n",
      "-Cost after step    50: -9.6120675\n",
      "-Cost after step    55: -10.2673407\n",
      "-Cost after step    60: -10.2933834\n",
      "-Cost after step    65: -10.5345230\n",
      "-Cost after step    70: -10.5688309\n",
      "-Cost after step    75: -10.6737816\n",
      "-Cost after step    80: -10.7390871\n",
      "-Cost after step    85: -10.7955639\n",
      "-Cost after step    90: -10.8207098\n",
      "-Cost after step    95: -10.8533251\n",
      "-Cost after step   100: -10.8672040\n",
      "-Cost after step   105: -10.8897600\n",
      "-Cost after step   110: -10.9003567\n",
      "-Cost after step   115: -10.9153517\n",
      "-Cost after step   120: -10.9231520\n",
      "-Cost after step   125: -10.9326852\n",
      "-Cost after step   130: -10.9381031\n",
      "-Cost after step   135: -10.9440668\n",
      "-Cost after step   140: -10.9477056\n",
      "-Cost after step   145: -10.9514230\n",
      "-Cost after step   150: -10.9538208\n",
      "Optimized (gamma, beta) vectors:\n",
      "[[0.41705789 0.65831204]\n",
      " [0.79380535 0.32196358]]\n",
      "Most frequently sampled bit string is: 0110\n"
     ]
    }
   ],
   "source": [
    "def qaoa_maxcut(graph,n_wires,l=1,steps=30,n_samples = 100):\n",
    "    print(\"\\n number of layers ={:d}\".format(l))\n",
    "\n",
    "    # initialize the parameters near zero\n",
    "    init_params = 0.01 * np.random.rand(2, l)\n",
    "  \n",
    "    # initialize optimizer: Adagrad works well empirically\n",
    "    opt = qml.AdagradOptimizer(stepsize=0.5)\n",
    "    \n",
    "    # optimize parameters in objective\n",
    "    params = init_params\n",
    "    c_hist=[]\n",
    "    for i in range(steps):\n",
    "        params = opt.step(cost, params,n_wires=n_wires,graph=graph,l=l)\n",
    "        if (i + 1) % 5 == 0:\n",
    "            c= objective(params,n_wires=n_wires,graph=graph,l=l)\n",
    "            c_hist.append(c)\n",
    "            print(\"-Cost after step {:5d}: {: .7f}\".format(i + 1,c))\n",
    "\n",
    "    bit_strings = []\n",
    "    for i in range(0, n_samples):\n",
    "        bit_strings.append(int(circuit(params[0], params[1], n_wires=n_wires,graph=graph, edge=None, l=l)))\n",
    "\n",
    "    # print optimal parameters and most frequently sampled bitstring\n",
    "    counts = np.bincount(np.array(bit_strings))\n",
    "    most_freq_bit_string = np.argmax(counts)\n",
    "    print(\"Optimized (gamma, beta) vectors:\\n{}\".format(params[:, :l]))\n",
    "    print(\"Most frequently sampled bit string is: {:04b}\".format(most_freq_bit_string))\n",
    "\n",
    "    return c_hist,-objective(params,n_wires=n_wires,graph=graph,l=l), bit_strings\n",
    "\n",
    "\n",
    "# perform qaoa on our graph with p=1,2 and\n",
    "# keep the bitstring sample lists\n",
    "c_hist1,params1,bitstrings1 = qaoa_maxcut(graph,nr_nodes,l=1,steps=120,n_samples = 100)\n",
    "c_hist2,params2,bitstrings2 = qaoa_maxcut(graph,nr_nodes,l=2,steps=120,n_samples = 100)"
   ]
  },
  {
   "cell_type": "code",
   "execution_count": 113,
   "id": "isolated-marble",
   "metadata": {},
   "outputs": [
    {
     "name": "stdout",
     "output_type": "stream",
     "text": [
      "Best cut (cost=24.0): \n",
      " \n",
      "[0, 0, 1, 1, 0]\n",
      "[1, 1, 0, 0, 1]\n"
     ]
    }
   ],
   "source": [
    "##### Example:#      \n",
    "max_str, best_cost= brut_MaxCut(graph,nr_nodes)  \n",
    "print(\"Best cut (cost={}): \\n \".format(best_cost))\n",
    "for i in max_str:\n",
    "    print(i)"
   ]
  },
  {
   "cell_type": "code",
   "execution_count": 114,
   "id": "bored-possession",
   "metadata": {},
   "outputs": [
    {
     "data": {
      "image/png": "[encoded data removed]",
      "text/plain": [
       "<Figure size 576x288 with 2 Axes>"
      ]
     },
     "metadata": {
      "needs_background": "light"
     },
     "output_type": "display_data"
    }
   ],
   "source": [
    "xticks = range(0, 2**nr_nodes)\n",
    "xtick_labels = list(map(lambda x: format(x, \"04b\"), xticks))\n",
    "bins = np.arange(0, 2**nr_nodes+1) - 0.5\n",
    "\n",
    "fig, (ax1, ax2) = plt.subplots(1, 2, figsize=(8, 4))\n",
    "plt.subplot(1, 2, 1)\n",
    "plt.title(\"nr. layers=1\")\n",
    "plt.xlabel(\"bitstrings\")\n",
    "plt.ylabel(\"freq.\")\n",
    "plt.xticks(xticks, xtick_labels, rotation=\"vertical\")\n",
    "plt.hist(bitstrings1, bins=bins)\n",
    "plt.subplot(1, 2, 2)\n",
    "plt.title(\"nr. layers=2\")\n",
    "plt.xlabel(\"bitstrings\")\n",
    "plt.ylabel(\"freq.\")\n",
    "plt.xticks(xticks, xtick_labels, rotation=\"vertical\")\n",
    "plt.hist(bitstrings2, bins=bins)\n",
    "plt.tight_layout()\n",
    "plt.show()"
   ]
  },
  {
   "cell_type": "code",
   "execution_count": 115,
   "id": "biological-crisis",
   "metadata": {},
   "outputs": [
    {
     "data": {
      "image/png": "[encoded data removed]",
      "text/plain": [
       "<Figure size 432x288 with 1 Axes>"
      ]
     },
     "metadata": {
      "needs_background": "light"
     },
     "output_type": "display_data"
    },
    {
     "name": "stdout",
     "output_type": "stream",
     "text": [
      "Best possibel scor: -24.0\n"
     ]
    }
   ],
   "source": [
    "it=[]\n",
    "c=5\n",
    "c1=[]\n",
    "for i in c_hist1:\n",
    "    c1.append(float(i.numpy()))\n",
    "    it.append(c)\n",
    "    c=c+5\n",
    "c2=[]\n",
    "for i in c_hist2:\n",
    "    c2.append(i.numpy())\n",
    "\n",
    "plt.title(\"Adagard Optimizre\")\n",
    "plt.xlabel(\"Iterations\")\n",
    "plt.ylabel(\"Cost\")\n",
    "plt.plot(it,c1,label=\"nr. layers = 1\")\n",
    "plt.plot(it,c2,label=\"nr. layers = 2\")\n",
    "x=[0,it[-1]]\n",
    "y=[-best_cost,-best_cost]\n",
    "#plt.plot(x,y)\n",
    "plt.legend(loc = 'best')\n",
    "plt.show()\n",
    "\n",
    "print(\"Best possibel scor:\",-best_cost)"
   ]
  },
  {
   "cell_type": "code",
   "execution_count": 116,
   "id": "departmental-texas",
   "metadata": {},
   "outputs": [
    {
     "name": "stdout",
     "output_type": "stream",
     "text": [
      "\n",
      " number of layers =3\n",
      "-Cost after step     5: -3.2496406\n",
      "-Cost after step    10: -4.2442392\n",
      "-Cost after step    15: -6.0460139\n",
      "-Cost after step    20: -5.1584630\n",
      "-Cost after step    25: -4.9624416\n",
      "-Cost after step    30: -4.8088254\n",
      "-Cost after step    35: -6.5364011\n",
      "-Cost after step    40: -6.6572949\n",
      "-Cost after step    45: -7.8829943\n",
      "-Cost after step    50: -7.4116427\n",
      "-Cost after step    55: -7.7975378\n",
      "-Cost after step    60: -6.5526818\n",
      "-Cost after step    65: -7.2883974\n",
      "-Cost after step    70: -7.4644709\n",
      "-Cost after step    75: -7.4338703\n",
      "-Cost after step    80: -7.6964755\n",
      "-Cost after step    85: -7.7225006\n",
      "-Cost after step    90: -7.8927770\n",
      "-Cost after step    95: -7.8889953\n",
      "-Cost after step   100: -8.0075416\n",
      "-Cost after step   105: -7.9746530\n",
      "-Cost after step   110: -8.0531092\n",
      "-Cost after step   115: -8.0092724\n",
      "-Cost after step   120: -8.0700721\n",
      "-Cost after step   125: -8.0267082\n",
      "-Cost after step   130: -8.0797693\n",
      "-Cost after step   135: -8.0381831\n",
      "-Cost after step   140: -8.0879056\n",
      "-Cost after step   145: -8.0490188\n",
      "-Cost after step   150: -8.0964451\n",
      "Optimized (gamma, beta) vectors:\n",
      "[[-1.04387024 -0.2179061  -0.17566424]\n",
      " [ 0.7188882  -0.60093535 -0.68618403]]\n",
      "Most frequently sampled bit string is: 10011\n",
      "\n",
      " number of layers =4\n",
      "-Cost after step     5: -3.8896590\n",
      "-Cost after step    10: -2.9782671\n",
      "-Cost after step    15: -2.5094327\n",
      "-Cost after step    20: -3.3435282\n",
      "-Cost after step    25: -0.8845665\n",
      "-Cost after step    30: -6.9350171\n",
      "-Cost after step    35: -8.7407403\n",
      "-Cost after step    40: -5.7532696\n",
      "-Cost after step    45: -7.2345638\n",
      "-Cost after step    50: -8.2575102\n",
      "-Cost after step    55: -8.7720979\n",
      "-Cost after step    60: -10.0524308\n",
      "-Cost after step    65: -10.2312747\n",
      "-Cost after step    70: -10.6448368\n",
      "-Cost after step    75: -10.7659837\n",
      "-Cost after step    80: -10.8780427\n",
      "-Cost after step    85: -10.9235841\n",
      "-Cost after step    90: -10.9548510\n",
      "-Cost after step    95: -10.9694375\n",
      "-Cost after step   100: -10.9783562\n",
      "-Cost after step   105: -10.9829051\n",
      "-Cost after step   110: -10.9855998\n",
      "-Cost after step   115: -10.9870849\n",
      "-Cost after step   120: -10.9879842\n",
      "-Cost after step   125: -10.9885230\n",
      "-Cost after step   130: -10.9888688\n",
      "-Cost after step   135: -10.9890952\n",
      "-Cost after step   140: -10.9892516\n",
      "-Cost after step   145: -10.9893627\n",
      "-Cost after step   150: -10.9894446\n",
      "Optimized (gamma, beta) vectors:\n",
      "[[ 0.41261247  0.64970356  1.15472058  2.48590817]\n",
      " [-0.77428732  0.33993897  0.03106503  1.5859619 ]]\n",
      "Most frequently sampled bit string is: 11001\n",
      "\n",
      " number of layers =4\n",
      "-Cost after step     5:  0.4651167\n",
      "-Cost after step    10: -6.4923777\n",
      "-Cost after step    15: -4.2547712\n",
      "-Cost after step    20: -5.8658987\n",
      "-Cost after step    25: -7.9531374\n",
      "-Cost after step    30: -4.4482601\n",
      "-Cost after step    35: -5.9441895\n",
      "-Cost after step    40: -9.0052859\n",
      "-Cost after step    45: -6.1161098\n",
      "-Cost after step    50: -7.1746340\n",
      "-Cost after step    55: -8.6407899\n",
      "-Cost after step    60: -8.1415760\n",
      "-Cost after step    65: -7.7071380\n",
      "-Cost after step    70: -9.9245328\n",
      "-Cost after step    75: -9.9042247\n",
      "-Cost after step    80: -8.6884866\n",
      "-Cost after step    85: -7.4815183\n",
      "-Cost after step    90: -8.3737332\n",
      "-Cost after step    95: -9.2975773\n",
      "-Cost after step   100: -8.6047794\n",
      "-Cost after step   105: -9.5858153\n",
      "-Cost after step   110: -8.8294551\n",
      "-Cost after step   115: -9.5071513\n",
      "-Cost after step   120: -9.0661497\n",
      "-Cost after step   125: -9.4901697\n",
      "-Cost after step   130: -9.2085760\n",
      "-Cost after step   135: -9.5697185\n",
      "-Cost after step   140: -9.3525421\n",
      "-Cost after step   145: -9.6167325\n",
      "-Cost after step   150: -9.4771170\n",
      "Optimized (gamma, beta) vectors:\n",
      "[[-0.84437184 -1.0078486  -0.48657182 -0.09000054]\n",
      " [ 0.35867578 -0.31522061  0.87264347 -0.41805981]]\n",
      "Most frequently sampled bit string is: 0111\n"
     ]
    }
   ],
   "source": [
    "## Some test with more leyers:\n",
    "c_hist3,params3,bitstrings3 = qaoa_maxcut(graph,nr_nodes,l=3,steps=150,n_samples = 200)\n",
    "c_hist4,params4,bitstrings4 = qaoa_maxcut(graph,nr_nodes,l=4,steps=150,n_samples = 200)\n",
    "c_hist5,params5,bitstrings5 = qaoa_maxcut(graph,nr_nodes,l=4,steps=150,n_samples = 200)"
   ]
  },
  {
   "cell_type": "code",
   "execution_count": 117,
   "id": "african-export",
   "metadata": {},
   "outputs": [
    {
     "data": {
      "image/png": "[encoded data removed]",
      "text/plain": [
       "<Figure size 432x288 with 1 Axes>"
      ]
     },
     "metadata": {
      "needs_background": "light"
     },
     "output_type": "display_data"
    },
    {
     "name": "stdout",
     "output_type": "stream",
     "text": [
      "Best possibel scor: -24.0\n"
     ]
    }
   ],
   "source": [
    "it=[]\n",
    "c=5\n",
    "c3=[]\n",
    "for i in c_hist3:\n",
    "    c3.append(float(i.numpy()))\n",
    "    it.append(c)\n",
    "    c=c+5\n",
    "c4=[]\n",
    "for i in c_hist4:\n",
    "    c4.append(i.numpy())\n",
    "c5=[]\n",
    "for i in c_hist5:\n",
    "    c5.append(i.numpy())\n",
    "    \n",
    "plt.title(\"Adagard Optimizre\")\n",
    "plt.xlabel(\"Iterations\")\n",
    "plt.ylabel(\"Cost\")\n",
    "plt.plot(it,c3,label=\"nr. layers = 3\")\n",
    "plt.plot(it,c4,label=\"nr. layers = 4\")\n",
    "plt.plot(it,c5,label=\"nr. layers = 5\")\n",
    "\n",
    "x=[0,it[-1]]\n",
    "y=[-best_cost,-best_cost]\n",
    "#plt.plot(x,y)\n",
    "plt.legend(loc = 'best')\n",
    "plt.show()\n",
    "\n",
    "print(\"Best possibel scor:\",-best_cost)"
   ]
  },
  {
   "cell_type": "markdown",
   "id": "reduced-project",
   "metadata": {},
   "source": [
    "Seeems that two leyers is the most convenable. Orcicum atea e partea frumasa de data asta ne intereseaza doar sa ajungem intr-o stare atat de joasa incat sistemul sa colapseze predominant intr-o pozitie in care costul taieturiilor e maxim ! "
   ]
  },
  {
   "cell_type": "code",
   "execution_count": null,
   "id": "pressing-motel",
   "metadata": {},
   "outputs": [],
   "source": []
  }
 ],
 "metadata": {
  "kernelspec": {
   "display_name": "Python 3",
   "language": "python",
   "name": "python3"
  },
  "language_info": {
   "codemirror_mode": {
    "name": "ipython",
    "version": 3
   },
   "file_extension": ".py",
   "mimetype": "text/x-python",
   "name": "python",
   "nbconvert_exporter": "python",
   "pygments_lexer": "ipython3",
   "version": "3.7.9"
  }
 },
 "nbformat": 4,
 "nbformat_minor": 5
}
