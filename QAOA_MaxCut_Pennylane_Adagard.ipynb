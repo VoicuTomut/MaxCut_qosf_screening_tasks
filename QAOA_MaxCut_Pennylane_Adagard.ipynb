{
 "cells": [
  {
   "cell_type": "markdown",
   "id": "northern-consultation",
   "metadata": {},
   "source": [
    "# QAOA MacCut_Pennylane(Adagrad)"
   ]
  },
  {
   "cell_type": "markdown",
   "id": "three-garage",
   "metadata": {},
   "source": [
    "I decide to try do do weighted max cut on the Pennylane because i whant to test more otimizerz ant Pennylate turorial require just some little ajutment to alow us ad weight to the edges. "
   ]
  },
  {
   "cell_type": "code",
   "execution_count": 18,
   "id": "varied-luxembourg",
   "metadata": {},
   "outputs": [],
   "source": [
    "import networkx as nx\n",
    "import numpy as np\n",
    "\n",
    "from matplotlib import pyplot as plt\n",
    "\n",
    "import pennylane as qml\n",
    "\n",
    "from pennylane import numpy as np"
   ]
  },
  {
   "cell_type": "code",
   "execution_count": 19,
   "id": "premium-friday",
   "metadata": {},
   "outputs": [],
   "source": [
    "np.random.seed(50)"
   ]
  },
  {
   "cell_type": "code",
   "execution_count": 20,
   "id": "amateur-classification",
   "metadata": {},
   "outputs": [
    {
     "data": {
      "image/png": "[encoded data removed]",
      "text/plain": [
       "<Figure size 432x288 with 1 Axes>"
      ]
     },
     "metadata": {},
     "output_type": "display_data"
    }
   ],
   "source": [
    "nr_nodes=5\n",
    "n_wires = nr_nodes\n",
    "graph = [(0,1,1.0),(1,2,9.0),(0,2,7.0),(3,1,5),(2,3,3.0),(0,3,1.0),(4,3,1),(4,2,1)]\n",
    "G=nx.Graph()\n",
    "G.add_weighted_edges_from(graph)\n",
    "nx.draw(G,with_labels=True)"
   ]
  },
  {
   "cell_type": "code",
   "execution_count": 21,
   "id": "indian-assistant",
   "metadata": {},
   "outputs": [
    {
     "name": "stdout",
     "output_type": "stream",
     "text": [
      "Best cut (cost=24.0): \n",
      " \n",
      "[0, 0, 1, 1, 0]\n",
      "[1, 1, 0, 0, 1]\n"
     ]
    }
   ],
   "source": [
    "#brut force  for verification  :\n",
    "def brut_MaxCut(graph,nr_nodes):\n",
    "    \n",
    "    W=np.zeros((int(nr_nodes),int(nr_nodes)))\n",
    "    for i in graph:\n",
    "        W[i[0]][i[1]]=i[2]\n",
    "        W[i[1]][i[0]]=i[2]       \n",
    "\n",
    "\n",
    "    best_cost_brute=0\n",
    "    max_str=[]\n",
    "    maxim=0\n",
    "    for b in range(2**nr_nodes):\n",
    "        x=[int(t) for t in reversed(list(bin(b)[2:].zfill(nr_nodes)))]\n",
    "        cost=0\n",
    "        for i in range(nr_nodes):\n",
    "            for j in range(nr_nodes):\n",
    "                cost=cost+W[i,j]*x[i]*(1-x[j])\n",
    "\n",
    "        \n",
    "        if best_cost_brute==cost:\n",
    "            max_str.append(str(x))\n",
    "            \n",
    "        if best_cost_brute<cost:\n",
    "            best_cost_brute=cost\n",
    "            max_str=[]\n",
    "            max_str.append(str(x))\n",
    " \n",
    "            \n",
    "    return  max_str, best_cost_brute\n",
    "            \n",
    "#Example:#      \n",
    "max_str, best_cost= brut_MaxCut(graph,nr_nodes)  \n",
    "print(\"Best cut (cost={}): \\n \".format(best_cost))\n",
    "for i in max_str:\n",
    "    print(i)"
   ]
  },
  {
   "cell_type": "markdown",
   "id": "neither-columbia",
   "metadata": {},
   "source": [
    "I use the same form for $U_B$ and $U_C$ as in Qiskit but now is made from  RZ between two Cnot."
   ]
  },
  {
   "cell_type": "code",
   "execution_count": 22,
   "id": "enclosed-philadelphia",
   "metadata": {},
   "outputs": [],
   "source": [
    "def UB_01(beta,n_wires):\n",
    "    for wire in range(n_wires):\n",
    "        qml.RX(2 * beta, wires=wire)\n",
    "        \n",
    "def UC_01(gamma,graph):\n",
    "    for edge in graph:\n",
    "        \n",
    "        wire1=edge[0]\n",
    "        wire2=edge[1]\n",
    "        w=edge[2]\n",
    "        \n",
    "        qml.CNOT(wires=[wire1, wire2])\n",
    "        qml.RZ(-w*gamma, wires=wire2)\n",
    "        qml.CNOT(wires=[wire1, wire2])\n",
    "        \n",
    "        \n",
    "def Init_H(n_wires):\n",
    "    for wire in range(n_wires):\n",
    "        qml.Hadamard(wires=wire)"
   ]
  },
  {
   "cell_type": "markdown",
   "id": "authentic-michael",
   "metadata": {},
   "source": [
    "It's interesting how the influence of the optical hardware can be seen in the code."
   ]
  },
  {
   "cell_type": "code",
   "execution_count": 6,
   "id": "august-pottery",
   "metadata": {},
   "outputs": [],
   "source": [
    "def comp_basis_measurement(wires):\n",
    "    n_wires = len(wires)\n",
    "    return qml.Hermitian(np.diag(range(2 ** n_wires)), wires=wires)"
   ]
  },
  {
   "cell_type": "code",
   "execution_count": 7,
   "id": "caroline-elements",
   "metadata": {},
   "outputs": [],
   "source": [
    "pauli_z = [[1, 0], [0, -1]]\n",
    "pauli_z_2 = np.kron(pauli_z, pauli_z)\n",
    "\n",
    "dev = qml.device(\"default.qubit\", wires=n_wires, analytic=True, shots=1)\n",
    "\n",
    "@qml.qnode(dev)\n",
    "def circuit(gammas, betas,n_wires,graph, edge=None, l=1):\n",
    "\n",
    "    Init_H(n_wires)\n",
    "    \n",
    "    for i in range(l):\n",
    "        UC_01(gammas[i],graph)\n",
    "        UB_01(betas[i],n_wires)\n",
    "        \n",
    "    if edge is None:\n",
    "        return qml.sample(comp_basis_measurement(range(n_wires)))\n",
    "    \n",
    "    return qml.expval(qml.Hermitian(pauli_z_2, wires=(edge[0],edge[1])))  # 1 circuit for eatc edge ?? sems not very practical"
   ]
  },
  {
   "cell_type": "code",
   "execution_count": 8,
   "id": "traditional-miniature",
   "metadata": {},
   "outputs": [],
   "source": [
    "def cost(params,l,n_wires,graph,):\n",
    "    gammas = params[0]\n",
    "    betas = params[1]\n",
    "    cost = 0\n",
    "    for edge in graph:\n",
    "        cost -= 0.5 * (1 - edge[2]*circuit(gammas, betas,n_wires=n_wires,graph=graph, edge=edge, l=l))\n",
    "    return cost"
   ]
  },
  {
   "cell_type": "code",
   "execution_count": 9,
   "id": "material-burden",
   "metadata": {},
   "outputs": [
    {
     "name": "stdout",
     "output_type": "stream",
     "text": [
      "\n",
      " number of layers =1\n",
      "-Cost after step     5: -6.0195652\n",
      "-Cost after step    10: -7.9242958\n",
      "-Cost after step    15: -8.0486016\n",
      "-Cost after step    20: -8.5686678\n",
      "-Cost after step    25: -8.7059510\n",
      "-Cost after step    30: -8.8160329\n",
      "-Cost after step    35: -8.8560476\n",
      "-Cost after step    40: -8.8800485\n",
      "-Cost after step    45: -8.8901347\n",
      "-Cost after step    50: -8.8955160\n",
      "-Cost after step    55: -8.8979424\n",
      "-Cost after step    60: -8.8991700\n",
      "-Cost after step    65: -8.8997430\n",
      "-Cost after step    70: -8.9000258\n",
      "-Cost after step    75: -8.9001600\n",
      "-Cost after step    80: -8.9002254\n",
      "-Cost after step    85: -8.9002567\n",
      "-Cost after step    90: -8.9002719\n",
      "-Cost after step    95: -8.9002792\n",
      "-Cost after step   100: -8.9002827\n",
      "-Cost after step   105: -8.9002844\n",
      "-Cost after step   110: -8.9002853\n",
      "-Cost after step   115: -8.9002857\n",
      "-Cost after step   120: -8.9002859\n",
      "Optimized (gamma, beta) vectors:\n",
      "[[-0.42503419]\n",
      " [ 0.88276797]]\n",
      "Most frequently sampled bit string is: 11010\n",
      "\n",
      " number of layers =2\n",
      "-Cost after step     5: -5.1958871\n",
      "-Cost after step    10: -4.5527092\n",
      "-Cost after step    15: -5.0685696\n",
      "-Cost after step    20: -5.4378727\n",
      "-Cost after step    25: -6.9225477\n",
      "-Cost after step    30: -6.9458423\n",
      "-Cost after step    35: -7.1003294\n",
      "-Cost after step    40: -7.1779484\n",
      "-Cost after step    45: -6.8891484\n",
      "-Cost after step    50: -6.0876950\n",
      "-Cost after step    55: -6.6607143\n",
      "-Cost after step    60: -6.4079494\n",
      "-Cost after step    65: -6.8001394\n",
      "-Cost after step    70: -6.6505071\n",
      "-Cost after step    75: -6.8963562\n",
      "-Cost after step    80: -6.8091037\n",
      "-Cost after step    85: -6.9751348\n",
      "-Cost after step    90: -6.9267250\n",
      "-Cost after step    95: -7.0379194\n",
      "-Cost after step   100: -7.0130113\n",
      "-Cost after step   105: -7.0871012\n",
      "-Cost after step   110: -7.0756876\n",
      "-Cost after step   115: -7.1249441\n",
      "-Cost after step   120: -7.1208586\n",
      "Optimized (gamma, beta) vectors:\n",
      "[[0.80449899 1.03231258]\n",
      " [1.13498943 0.21996098]]\n",
      "Most frequently sampled bit string is: 1000\n"
     ]
    }
   ],
   "source": [
    "def qaoa_maxcut(graph,n_wires,l=1,steps=30,n_samples = 100):\n",
    "    print(\"\\n number of layers ={:d}\".format(l))\n",
    "\n",
    "    # initialize the parameters near zero\n",
    "    init_params = 0.01 * np.random.rand(2, l)\n",
    "  \n",
    "    # initialize optimizer: Adagrad works well empirically\n",
    "    opt = qml.AdagradOptimizer(stepsize=0.5)\n",
    "    \n",
    "    # optimize parameters in cost\n",
    "    params = init_params\n",
    "    c_hist=[]\n",
    "    for i in range(steps):\n",
    "        params = opt.step(cost, params,n_wires=n_wires,graph=graph,l=l)\n",
    "        if (i + 1) % 5 == 0:\n",
    "            c= cost(params,n_wires=n_wires,graph=graph,l=l)\n",
    "            c_hist.append(c)\n",
    "            print(\"-Cost after step {:5d}: {: .7f}\".format(i + 1,c))\n",
    "\n",
    "    bit_strings = []\n",
    "    for i in range(0, n_samples):\n",
    "        bit_strings.append(int(circuit(params[0], params[1], n_wires=n_wires,graph=graph, edge=None, l=l)))\n",
    "\n",
    "    # print optimal parameters and most frequently sampled bitstring\n",
    "    counts = np.bincount(np.array(bit_strings))\n",
    "    most_freq_bit_string = np.argmax(counts)\n",
    "    print(\"Optimized (gamma, beta) vectors:\\n{}\".format(params[:, :l]))\n",
    "    print(\"Most frequently sampled bit string is: {:04b}\".format(most_freq_bit_string))\n",
    "\n",
    "    return c_hist,-cost(params,n_wires=n_wires,graph=graph,l=l), bit_strings\n",
    "\n",
    "\n",
    "# perform qaoa on our graph with p=1,2 and\n",
    "# keep the bitstring sample lists\n",
    "c_hist1,params1,bitstrings1 = qaoa_maxcut(graph,nr_nodes,l=1,steps=120,n_samples = 100)\n",
    "c_hist2,params2,bitstrings2 = qaoa_maxcut(graph,nr_nodes,l=2,steps=120,n_samples = 100)"
   ]
  },
  {
   "cell_type": "code",
   "execution_count": 10,
   "id": "isolated-marble",
   "metadata": {},
   "outputs": [
    {
     "name": "stdout",
     "output_type": "stream",
     "text": [
      "Best cut (cost=24.0): \n",
      " \n",
      "[0, 0, 1, 1, 0]\n",
      "[1, 1, 0, 0, 1]\n"
     ]
    }
   ],
   "source": [
    "##### Example:#      \n",
    "max_str, best_cost= brut_MaxCut(graph,nr_nodes)  \n",
    "print(\"Best cut (cost={}): \\n \".format(best_cost))\n",
    "for i in max_str:\n",
    "    print(i)"
   ]
  },
  {
   "cell_type": "code",
   "execution_count": 11,
   "id": "bored-possession",
   "metadata": {},
   "outputs": [
    {
     "data": {
      "image/png": "[encoded data removed]",
      "text/plain": [
       "<Figure size 576x288 with 2 Axes>"
      ]
     },
     "metadata": {
      "needs_background": "light"
     },
     "output_type": "display_data"
    }
   ],
   "source": [
    "xticks = range(0, 2**nr_nodes)\n",
    "xtick_labels = list(map(lambda x: format(x, \"04b\"), xticks))\n",
    "bins = np.arange(0, 2**nr_nodes+1) - 0.5\n",
    "\n",
    "fig, (ax1, ax2) = plt.subplots(1, 2, figsize=(8, 4))\n",
    "plt.subplot(1, 2, 1)\n",
    "plt.title(\"nr. layers=1\")\n",
    "plt.xlabel(\"bitstrings\")\n",
    "plt.ylabel(\"freq.\")\n",
    "plt.xticks(xticks, xtick_labels, rotation=\"vertical\")\n",
    "plt.hist(bitstrings1, bins=bins)\n",
    "plt.subplot(1, 2, 2)\n",
    "plt.title(\"nr. layers=2\")\n",
    "plt.xlabel(\"bitstrings\")\n",
    "plt.ylabel(\"freq.\")\n",
    "plt.xticks(xticks, xtick_labels, rotation=\"vertical\")\n",
    "plt.hist(bitstrings2, bins=bins)\n",
    "plt.tight_layout()\n",
    "plt.show()"
   ]
  },
  {
   "cell_type": "code",
   "execution_count": 12,
   "id": "biological-crisis",
   "metadata": {},
   "outputs": [
    {
     "data": {
      "image/png": "[encoded data removed]",
      "text/plain": [
       "<Figure size 432x288 with 1 Axes>"
      ]
     },
     "metadata": {
      "needs_background": "light"
     },
     "output_type": "display_data"
    },
    {
     "name": "stdout",
     "output_type": "stream",
     "text": [
      "Best possibel scor: -24.0\n"
     ]
    }
   ],
   "source": [
    "it=[]\n",
    "c=5\n",
    "c1=[]\n",
    "for i in c_hist1:\n",
    "    c1.append(float(i.numpy()))\n",
    "    it.append(c)\n",
    "    c=c+5\n",
    "c2=[]\n",
    "for i in c_hist2:\n",
    "    c2.append(i.numpy())\n",
    "\n",
    "plt.title(\"Adagard Optimizre\")\n",
    "plt.xlabel(\"Iterations\")\n",
    "plt.ylabel(\"Cost\")\n",
    "plt.plot(it,c1,label=\"nr. layers = 1\")\n",
    "plt.plot(it,c2,label=\"nr. layers = 2\")\n",
    "x=[0,it[-1]]\n",
    "y=[-best_cost,-best_cost]\n",
    "#plt.plot(x,y)\n",
    "plt.legend(loc = 'best')\n",
    "plt.show()\n",
    "\n",
    "print(\"Best possibel scor:\",-best_cost)"
   ]
  },
  {
   "cell_type": "code",
   "execution_count": 16,
   "id": "departmental-texas",
   "metadata": {},
   "outputs": [
    {
     "name": "stdout",
     "output_type": "stream",
     "text": [
      "\n",
      " number of layers =3\n",
      "-Cost after step     5: -5.0988105\n",
      "-Cost after step    10: -5.2281128\n",
      "-Cost after step    15: -6.2900172\n",
      "-Cost after step    20: -5.0246397\n",
      "-Cost after step    25: -7.2290293\n",
      "-Cost after step    30: -5.9771553\n",
      "-Cost after step    35: -5.7937895\n",
      "-Cost after step    40: -7.1858772\n",
      "-Cost after step    45: -4.1496902\n",
      "-Cost after step    50: -5.8825518\n",
      "-Cost after step    55: -5.8427859\n",
      "-Cost after step    60: -6.7855466\n",
      "-Cost after step    65: -6.6207691\n",
      "-Cost after step    70: -6.9421237\n",
      "-Cost after step    75: -5.8841101\n",
      "-Cost after step    80: -7.2830140\n",
      "-Cost after step    85: -5.1823082\n",
      "-Cost after step    90: -6.2539783\n",
      "-Cost after step    95: -7.8351821\n",
      "-Cost after step   100: -7.8477724\n",
      "-Cost after step   105: -7.9936510\n",
      "-Cost after step   110: -7.0137864\n",
      "-Cost after step   115: -7.0592894\n",
      "-Cost after step   120: -7.4298990\n",
      "-Cost after step   125: -7.3506774\n",
      "-Cost after step   130: -7.4739136\n",
      "-Cost after step   135: -7.3655059\n",
      "-Cost after step   140: -7.4982859\n",
      "-Cost after step   145: -7.3826222\n",
      "-Cost after step   150: -7.5361819\n",
      "Optimized (gamma, beta) vectors:\n",
      "[[ 0.73112365 -0.18941519  0.35478753]\n",
      " [ 0.35559362 -0.33679473  0.81645274]]\n",
      "Most frequently sampled bit string is: 11000\n",
      "\n",
      " number of layers =4\n",
      "-Cost after step     5: -4.4096544\n",
      "-Cost after step    10: -5.4549376\n",
      "-Cost after step    15: -5.8613871\n",
      "-Cost after step    20: -5.0317268\n",
      "-Cost after step    25: -6.1423545\n",
      "-Cost after step    30: -6.7300509\n",
      "-Cost after step    35: -4.0898051\n",
      "-Cost after step    40: -7.8279011\n",
      "-Cost after step    45: -9.1333264\n",
      "-Cost after step    50: -8.8298718\n",
      "-Cost after step    55: -9.1386117\n",
      "-Cost after step    60: -9.6152883\n",
      "-Cost after step    65: -8.6178561\n",
      "-Cost after step    70: -8.5278637\n",
      "-Cost after step    75: -8.4534826\n",
      "-Cost after step    80: -8.1893692\n",
      "-Cost after step    85: -8.4005108\n",
      "-Cost after step    90: -9.5304519\n",
      "-Cost after step    95: -9.0645364\n",
      "-Cost after step   100: -9.2717984\n",
      "-Cost after step   105: -8.0415134\n",
      "-Cost after step   110: -9.1893983\n",
      "-Cost after step   115: -9.3757426\n",
      "-Cost after step   120: -9.5679528\n",
      "-Cost after step   125: -9.6590375\n",
      "-Cost after step   130: -9.7102379\n",
      "-Cost after step   135: -9.7311571\n",
      "-Cost after step   140: -9.7406364\n",
      "-Cost after step   145: -9.7447051\n",
      "-Cost after step   150: -9.7466382\n",
      "Optimized (gamma, beta) vectors:\n",
      "[[0.41699975 1.13476265 1.6356895  1.18326264]\n",
      " [2.32658885 0.15407659 1.37891252 1.40772916]]\n",
      "Most frequently sampled bit string is: 11001\n",
      "\n",
      " number of layers =4\n",
      "-Cost after step     5: -4.6576054\n",
      "-Cost after step    10: -1.4652140\n",
      "-Cost after step    15: -7.7989980\n",
      "-Cost after step    20: -8.1869230\n",
      "-Cost after step    25: -9.3289102\n",
      "-Cost after step    30: -9.3247291\n",
      "-Cost after step    35: -10.0621701\n",
      "-Cost after step    40: -9.4260606\n",
      "-Cost after step    45: -9.9194633\n",
      "-Cost after step    50: -9.8940586\n",
      "-Cost after step    55: -10.0210357\n",
      "-Cost after step    60: -10.6275487\n",
      "-Cost after step    65: -9.8441444\n",
      "-Cost after step    70: -10.5019548\n",
      "-Cost after step    75: -10.1319196\n",
      "-Cost after step    80: -9.8858441\n",
      "-Cost after step    85: -9.9161092\n",
      "-Cost after step    90: -9.9853284\n",
      "-Cost after step    95: -9.9905892\n",
      "-Cost after step   100: -10.0398112\n",
      "-Cost after step   105: -10.0296836\n",
      "-Cost after step   110: -10.0706567\n",
      "-Cost after step   115: -10.0536822\n",
      "-Cost after step   120: -10.0906021\n",
      "-Cost after step   125: -10.0700459\n",
      "-Cost after step   130: -10.1046821\n",
      "-Cost after step   135: -10.0820517\n",
      "-Cost after step   140: -10.1152493\n",
      "-Cost after step   145: -10.0913401\n",
      "-Cost after step   150: -10.1235461\n",
      "Optimized (gamma, beta) vectors:\n",
      "[[-0.41561365 -0.43091541 -0.87884979  1.31188349]\n",
      " [-0.63562139  1.85498821  0.07438778  1.4711834 ]]\n",
      "Most frequently sampled bit string is: 0111\n"
     ]
    }
   ],
   "source": [
    "## Some test with more leyers:\n",
    "c_hist3,params3,bitstrings3 = qaoa_maxcut(graph,nr_nodes,l=3,steps=150,n_samples = 200)\n",
    "c_hist4,params4,bitstrings4 = qaoa_maxcut(graph,nr_nodes,l=4,steps=150,n_samples = 200)\n",
    "c_hist5,params5,bitstrings5 = qaoa_maxcut(graph,nr_nodes,l=4,steps=150,n_samples = 200)"
   ]
  },
  {
   "cell_type": "code",
   "execution_count": 17,
   "id": "african-export",
   "metadata": {},
   "outputs": [
    {
     "data": {
      "image/png": "[encoded data removed]",
      "text/plain": [
       "<Figure size 432x288 with 1 Axes>"
      ]
     },
     "metadata": {
      "needs_background": "light"
     },
     "output_type": "display_data"
    },
    {
     "name": "stdout",
     "output_type": "stream",
     "text": [
      "Best possibel scor: -24.0\n"
     ]
    }
   ],
   "source": [
    "it=[]\n",
    "c=5\n",
    "c3=[]\n",
    "for i in c_hist3:\n",
    "    c3.append(float(i.numpy()))\n",
    "    it.append(c)\n",
    "    c=c+5\n",
    "c4=[]\n",
    "for i in c_hist4:\n",
    "    c4.append(i.numpy())\n",
    "c5=[]\n",
    "for i in c_hist5:\n",
    "    c5.append(i.numpy())\n",
    "    \n",
    "plt.title(\"Adagard Optimizre\")\n",
    "plt.xlabel(\"Iterations\")\n",
    "plt.ylabel(\"Cost\")\n",
    "plt.plot(it,c3,label=\"nr. layers = 3\")\n",
    "plt.plot(it,c4,label=\"nr. layers = 4\")\n",
    "plt.plot(it,c5,label=\"nr. layers = 5\")\n",
    "\n",
    "x=[0,it[-1]]\n",
    "y=[-best_cost,-best_cost]\n",
    "#plt.plot(x,y)\n",
    "plt.legend(loc = 'best')\n",
    "plt.show()\n",
    "\n",
    "print(\"Best possibel scor:\",-best_cost)"
   ]
  },
  {
   "cell_type": "markdown",
   "id": "reduced-project",
   "metadata": {},
   "source": [
    "It seems that the higher the number of layersthe lower the cost will be, but the harder it is to converge.\n",
    "One of the beautiful part in these particular situation is that we are only interested in reaching a state so low that the system collapses predominantly in a position where the  sum of cut edges is maximum !"
   ]
  }
 ],
 "metadata": {
  "kernelspec": {
   "display_name": "Python 3",
   "language": "python",
   "name": "python3"
  },
  "language_info": {
   "codemirror_mode": {
    "name": "ipython",
    "version": 3
   },
   "file_extension": ".py",
   "mimetype": "text/x-python",
   "name": "python",
   "nbconvert_exporter": "python",
   "pygments_lexer": "ipython3",
   "version": "3.7.9"
  }
 },
 "nbformat": 4,
 "nbformat_minor": 5
}
